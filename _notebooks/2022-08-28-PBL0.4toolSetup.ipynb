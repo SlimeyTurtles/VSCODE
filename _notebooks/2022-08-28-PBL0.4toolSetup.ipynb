{
 "cells": [
  {
   "cell_type": "markdown",
   "metadata": {},
   "source": [
    "# 0.4 Tools Setup\n",
    "> [Link to assignment](https://nighthawkcoders.github.io/APCSA/techtalk/tools)\n",
    "\n",
    "- layout: default\n",
    "- categories: [week0]\n",
    "- permalink: /week0/4"
   ]
  },
  {
   "cell_type": "markdown",
   "metadata": {},
   "source": [
    "- [Link to personal fastpages](https://slimeyturtles.github.io/VSCODE/)\n",
    "- [Link to new post](https://slimeyturtles.github.io/VSCODE/week0/toolsetup)\n",
    "- [Hello World Python](https://slimeyturtles.github.io/VSCODE/week0/hello-world-Python)\n",
    "- [Hello World Java](https://slimeyturtles.github.io/VSCODE/week0/hello-world-Java)\n",
    "- SC of Fastpages on IDE\n",
    "\n",
    "![screenshot of fastpages on IDE](https://raw.githubusercontent.com/SlimeyTurtles/VSCODE/master/images/week0/IDE.png)\n",
    "\n",
    "- SC of Java project running\n",
    "\n",
    "![screenshot of java project running](https://raw.githubusercontent.com/SlimeyTurtles/VSCODE/master/images/week0/runningJava.png)\n",
    "\n",
    "- [GitHub Insights](https://github.com/SlimeyTurtles)"
   ]
  }
 ],
 "metadata": {
  "kernelspec": {
   "display_name": "Python 3.9.12 ('base')",
   "language": "python",
   "name": "python3"
  },
  "language_info": {
   "name": "python",
   "version": "3.9.12"
  },
  "orig_nbformat": 4,
  "vscode": {
   "interpreter": {
    "hash": "9ecd47580672c8c4a8d2705681a2c122436ffbaf066777e21e559c2d85439e96"
   }
  }
 },
 "nbformat": 4,
 "nbformat_minor": 2
}
