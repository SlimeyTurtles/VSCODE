{
 "cells": [
  {
   "cell_type": "markdown",
   "metadata": {},
   "source": [
    "# 1.2 Primitives\n",
    "> [Link to assignment](https://nighthawkcoders.github.io/APCSA/unit/1)\n",
    "\n",
    "- layout: default\n",
    "- categories: [week1, pbl]\n",
    "- permalink: /week1/2"
   ]
  },
  {
   "cell_type": "markdown",
   "metadata": {},
   "source": [
    "# Notes\n",
    "\n",
    "- primitive datatypes are lowercase and include boolean, char, ints, and floats\n",
    "- nonprimitive data starts with caps and includes Strings and Arrays\n",
    "- nonprimitives are caps bec they are classes and have methods\n",
    "- java needs variables to be declared so that it can be compiled\n",
    "- javac is java's compiler and lets it run more efficiently because it only needs to be compiled once, while python needs to compile every time it is run"
   ]
  },
  {
   "cell_type": "markdown",
   "metadata": {},
   "source": [
    "# Hacks\n",
    "\n",
    "ill do it later its not due rn"
   ]
  }
 ],
 "metadata": {
  "kernelspec": {
   "display_name": "Python 3.8.10 64-bit",
   "language": "python",
   "name": "python3"
  },
  "language_info": {
   "name": "python",
   "version": "3.8.10"
  },
  "orig_nbformat": 4,
  "vscode": {
   "interpreter": {
    "hash": "916dbcbb3f70747c44a77c7bcd40155683ae19c65e1c03b4aa3499c5328201f1"
   }
  }
 },
 "nbformat": 4,
 "nbformat_minor": 2
}
