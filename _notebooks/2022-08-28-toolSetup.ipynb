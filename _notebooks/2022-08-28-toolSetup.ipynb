{
 "cells": [
  {
   "cell_type": "markdown",
   "metadata": {},
   "source": [
    "# Week 0\n",
    "> Tools Setup\n",
    "\n",
    "- layout: default\n",
    "- categories: [week0]\n",
    "- permalink: /week0"
   ]
  },
  {
   "cell_type": "markdown",
   "metadata": {},
   "source": [
    "- [x] Link to personal fastpages\n",
    "- [x] Link to new post\n",
    "- [x] Hello World Python\n",
    "- [x] Hello World Java\n",
    "- [x] SC of Fastpages on IDE\n",
    "- [x] SC of Java project running\n",
    "![screenshot of java project running](VSCODE/images/week0/runningJava.png)\n",
    "- [x] GitHub Insights"
   ]
  }
 ],
 "metadata": {
  "kernelspec": {
   "display_name": "Python 3.9.12 ('base')",
   "language": "python",
   "name": "python3"
  },
  "language_info": {
   "name": "python",
   "version": "3.9.12"
  },
  "orig_nbformat": 4,
  "vscode": {
   "interpreter": {
    "hash": "9ecd47580672c8c4a8d2705681a2c122436ffbaf066777e21e559c2d85439e96"
   }
  }
 },
 "nbformat": 4,
 "nbformat_minor": 2
}
