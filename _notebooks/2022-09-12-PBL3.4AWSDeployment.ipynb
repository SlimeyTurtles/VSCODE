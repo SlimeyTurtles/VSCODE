{
 "cells": [
  {
   "cell_type": "markdown",
   "metadata": {},
   "source": [
    "# 3.4 Deployment with AWS\n",
    "> [Link to assignment](https://nighthawkcoders.github.io/APCSA//techtalk/deploy)\n",
    "\n",
    "- layout: default\n",
    "- categories: [week3, pbl]\n",
    "- permalink: /week3/4"
   ]
  },
  {
   "cell_type": "markdown",
   "metadata": {},
   "source": [
    "not done. theres a server running on aws and i have docker but i cant set up DNS/nginx"
   ]
  }
 ],
 "metadata": {
  "kernelspec": {
   "display_name": "Python 3.8.10 64-bit",
   "language": "python",
   "name": "python3"
  },
  "language_info": {
   "name": "python",
   "version": "3.8.10"
  },
  "orig_nbformat": 4,
  "vscode": {
   "interpreter": {
    "hash": "916dbcbb3f70747c44a77c7bcd40155683ae19c65e1c03b4aa3499c5328201f1"
   }
  }
 },
 "nbformat": 4,
 "nbformat_minor": 2
}
