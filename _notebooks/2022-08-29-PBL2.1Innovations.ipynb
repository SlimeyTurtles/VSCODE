{
 "cells": [
  {
   "cell_type": "markdown",
   "metadata": {},
   "source": [
    "# 2.1 Innovation Part 2\n",
    "> [Link to assignment](https://nighthawkcoders.github.io/APCSA/techtalk/fastpages)\n",
    "\n",
    "- layout: default\n",
    "- categories: [week2]\n",
    "- permalink: /week2/1"
   ]
  }
 ],
 "metadata": {
  "language_info": {
   "name": "python"
  },
  "orig_nbformat": 4
 },
 "nbformat": 4,
 "nbformat_minor": 2
}
