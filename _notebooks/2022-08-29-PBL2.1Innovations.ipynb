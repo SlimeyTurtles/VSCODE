{
 "cells": [
  {
   "cell_type": "markdown",
   "metadata": {},
   "source": [
    "# 2.1 Innovation Part 2\n",
    "> [Link to assignment](https://nighthawkcoders.github.io/APCSA/week/2)\n",
    "\n",
    "- layout: default\n",
    "- categories: [week2, pbl]\n",
    "- permalink: /week2/1"
   ]
  },
  {
   "cell_type": "markdown",
   "metadata": {},
   "source": [
    "Unfortunately the link to the assignment is now gone, so well never know what it said"
   ]
  }
 ],
 "metadata": {
  "kernelspec": {
   "display_name": "Python 3.9.12 64-bit",
   "language": "python",
   "name": "python3"
  },
  "language_info": {
   "name": "python",
   "version": "3.9.12"
  },
  "orig_nbformat": 4,
  "vscode": {
   "interpreter": {
    "hash": "9ecd47580672c8c4a8d2705681a2c122436ffbaf066777e21e559c2d85439e96"
   }
  }
 },
 "nbformat": 4,
 "nbformat_minor": 2
}
