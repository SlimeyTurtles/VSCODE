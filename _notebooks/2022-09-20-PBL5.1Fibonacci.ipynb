{
 "cells": [
  {
   "cell_type": "markdown",
   "metadata": {},
   "source": [
    "# 5.1 Fibonacci\n",
    "> [Link to assignment](https://nighthawkcoders.github.io/APCSA//unit/5)\n",
    "\n",
    "- layout: default\n",
    "- categories: [week5, pbl]\n",
    "- permalink: /week5/1"
   ]
  },
  {
   "cell_type": "markdown",
   "metadata": {},
   "source": [
    "### For Loop"
   ]
  },
  {
   "cell_type": "code",
   "execution_count": 44,
   "metadata": {
    "vscode": {
     "languageId": "java"
    }
   },
   "outputs": [
    {
     "name": "stdout",
     "output_type": "stream",
     "text": [
      "Fibonacci For Loop\n",
      "0 + 1 = 1\n",
      "1 + 1 = 2\n",
      "1 + 2 = 3\n",
      "2 + 3 = 5\n",
      "3 + 5 = 8\n",
      "5 + 8 = 13\n",
      "This task took: 0.020585937 seconds\n"
     ]
    }
   ],
   "source": [
    "public class ForLoop {\n",
    "\n",
    "    public static void main(int index) {\n",
    "\n",
    "        int a = 0;\n",
    "        int b = 1;\n",
    "        int c;\n",
    "        \n",
    "        System.out.println(\"Fibonacci For Loop\");\n",
    "\n",
    "        for (int i = 0; i < index; i++) {\n",
    "            c = a + b;\n",
    "            System.out.println(a + \" + \" + b + \" = \" + c);\n",
    "            a = b;\n",
    "            b = c;\n",
    "        }\n",
    "    }\n",
    "}\n",
    "\n",
    "long startTime = System.nanoTime();\n",
    "ForLoop.main(6);\n",
    "long endTime = System.nanoTime();\n",
    "\n",
    "long duration = (endTime - startTime);\n",
    "double seconds = (double) duration/1000000000;\n",
    "\n",
    "System.out.println(\"This task took: \" + seconds + \" seconds\")"
   ]
  },
  {
   "cell_type": "markdown",
   "metadata": {},
   "source": [
    "### While Loop"
   ]
  },
  {
   "cell_type": "code",
   "execution_count": 48,
   "metadata": {
    "vscode": {
     "languageId": "java"
    }
   },
   "outputs": [
    {
     "name": "stdout",
     "output_type": "stream",
     "text": [
      "Fibonacci While Loop\n",
      "0 + 1 = 1\n",
      "1 + 1 = 2\n",
      "1 + 2 = 3\n",
      "2 + 3 = 5\n",
      "3 + 5 = 8\n",
      "5 + 8 = 13\n",
      "This task took: 0.019449162 seconds\n"
     ]
    }
   ],
   "source": [
    "public class WhileLoop {\n",
    "\n",
    "    public static void main(int index) {\n",
    "\n",
    "        int a = 0;\n",
    "        int b = 1;\n",
    "        int c;\n",
    "        int i = 0;\n",
    "\n",
    "        System.out.println(\"Fibonacci While Loop\");\n",
    "\n",
    "        while (i < index) {\n",
    "            c = a + b;\n",
    "            System.out.println(a + \" + \" + b + \" = \" + c);\n",
    "            a = b;\n",
    "            b = c;\n",
    "            i++;\n",
    "        }\n",
    "    }\n",
    "}\n",
    "\n",
    "long startTime = System.nanoTime();\n",
    "WhileLoop.main(6);\n",
    "long endTime = System.nanoTime();\n",
    "\n",
    "long duration = (endTime - startTime);\n",
    "double seconds = (double) duration/1000000000;\n",
    "\n",
    "System.out.println(\"This task took: \" + seconds + \" seconds\")"
   ]
  },
  {
   "cell_type": "markdown",
   "metadata": {},
   "source": [
    "### Recursion"
   ]
  },
  {
   "cell_type": "code",
   "execution_count": 47,
   "metadata": {
    "vscode": {
     "languageId": "java"
    }
   },
   "outputs": [
    {
     "name": "stdout",
     "output_type": "stream",
     "text": [
      "0 + 1 = 1\n",
      "1 + 1 = 2\n",
      "1 + 2 = 3\n",
      "2 + 3 = 5\n",
      "3 + 5 = 8\n",
      "5 + 8 = 13\n",
      "This task took: 0.018451155 seconds\n"
     ]
    }
   ],
   "source": [
    "public class RecursiveLoop {\n",
    "\n",
    "    public static void main(int a, int b, int index) {\n",
    "\n",
    "        int c;\n",
    "        int i = 0;\n",
    "\n",
    "        if (i < index) {\n",
    "            c = a + b;\n",
    "            System.out.println(a + \" + \" + b + \" = \" + c);\n",
    "            a = b;\n",
    "            b = c;\n",
    "            index--;\n",
    "            RecursiveLoop.main(a, b, index);\n",
    "        }\n",
    "    }\n",
    "}\n",
    "\n",
    "long startTime = System.nanoTime();\n",
    "RecursiveLoop.main(0, 1, 6);\n",
    "long endTime = System.nanoTime();\n",
    "\n",
    "long duration = (endTime - startTime);\n",
    "double seconds = (double) duration/1000000000;\n",
    "\n",
    "System.out.println(\"This task took: \" + seconds + \" seconds\")"
   ]
  },
  {
   "cell_type": "markdown",
   "metadata": {},
   "source": [
    "### CollegeBoard Requirements\n",
    "\n",
    "    Skill 1.B:Determine code that would be used to complete code segments (ie For, While, Recursion)\n",
    "\n",
    "I created functions that use For, While, and Recursion loops\n",
    "\n",
    "    Skill 4.C: Determine if two or more code segments yield equivalent results (be sure to Discuss how you know results are the same)\n",
    "\n",
    "Yes because the outputs are the same and I can see that visually. I also could plug both function outputs into a function to determine if theyre equivalent.\n",
    "\n",
    "    Skill 5.A: Describe the behavior of a given segment of program code (describe the difference in recursion versus for & while loops, perhaps add timing to determine speed)\n",
    "\n",
    "Theres a timer"
   ]
  }
 ],
 "metadata": {
  "kernelspec": {
   "display_name": "Java",
   "language": "java",
   "name": "java"
  },
  "language_info": {
   "codemirror_mode": "java",
   "file_extension": ".jshell",
   "mimetype": "text/x-java-source",
   "name": "Java",
   "pygments_lexer": "java",
   "version": "11.0.16+8-post-Ubuntu-0ubuntu120.04"
  },
  "orig_nbformat": 4,
  "vscode": {
   "interpreter": {
    "hash": "916dbcbb3f70747c44a77c7bcd40155683ae19c65e1c03b4aa3499c5328201f1"
   }
  }
 },
 "nbformat": 4,
 "nbformat_minor": 2
}
