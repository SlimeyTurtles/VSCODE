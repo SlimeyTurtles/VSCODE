{
 "cells": [
  {
   "cell_type": "markdown",
   "metadata": {},
   "source": [
    "# 5.1 Fibonacci\n",
    "> [Link to assignment](https://nighthawkcoders.github.io/APCSA//unit/5)\n",
    "\n",
    "- layout: default\n",
    "- categories: [week5, pbl]\n",
    "- permalink: /week5/1"
   ]
  },
  {
   "cell_type": "markdown",
   "metadata": {},
   "source": [
    "### For Loop"
   ]
  },
  {
   "cell_type": "code",
   "execution_count": 20,
   "metadata": {},
   "outputs": [
    {
     "ename": "CompilationException",
     "evalue": "",
     "output_type": "error",
     "traceback": [
      "\u001b[1m\u001b[30m|   \u001b[1m\u001b[30m            System.out.println(\"\" + a + \" + \"\u001b[0m\u001b[1m\u001b[30m\u001b[41m\u001b[0m\u001b[1m\u001b[30m b + \" = \" c);\u001b[0m",
      "\u001b[1m\u001b[31m')' expected\u001b[0m",
      "",
      "\u001b[1m\u001b[30m|   \u001b[1m\u001b[30m            System.out.println(\"\" + a + \" + \" \u001b[0m\u001b[1m\u001b[30m\u001b[41mb + \" = \"\u001b[0m\u001b[1m\u001b[30m c);\u001b[0m",
      "\u001b[1m\u001b[31mnot a statement\u001b[0m",
      "",
      "\u001b[1m\u001b[30m|   \u001b[1m\u001b[30m            System.out.println(\"\" + a + \" + \" b + \" = \"\u001b[0m\u001b[1m\u001b[30m\u001b[41m\u001b[0m\u001b[1m\u001b[30m c);\u001b[0m",
      "\u001b[1m\u001b[31m';' expected\u001b[0m",
      "",
      "\u001b[1m\u001b[30m|   \u001b[1m\u001b[30m            System.out.println(\"\" + a + \" + \" b + \" = \" \u001b[0m\u001b[1m\u001b[30m\u001b[41mc\u001b[0m\u001b[1m\u001b[30m);\u001b[0m",
      "\u001b[1m\u001b[31mnot a statement\u001b[0m",
      "",
      "\u001b[1m\u001b[30m|   \u001b[1m\u001b[30m            System.out.println(\"\" + a + \" + \" b + \" = \" c\u001b[0m\u001b[1m\u001b[30m\u001b[41m\u001b[0m\u001b[1m\u001b[30m);\u001b[0m",
      "\u001b[1m\u001b[31m';' expected\u001b[0m",
      ""
     ]
    }
   ],
   "source": [
    "public class ForLoop {\n",
    "\n",
    "    public static void main(int index) {\n",
    "\n",
    "        int a = 0;\n",
    "        int b = 1;\n",
    "        int c;\n",
    "        \n",
    "        for (int i = 0; i < index; i++) {\n",
    "            c = a + b;\n",
    "            System.out.println(\"\" + a + \" + \" b + \" = \" c);\n",
    "            a = b;\n",
    "            b = c;\n",
    "        }\n",
    "    }\n",
    "}\n",
    "\n",
    "ForLoop.main(6);"
   ]
  },
  {
   "cell_type": "markdown",
   "metadata": {},
   "source": [
    "### While Loop"
   ]
  },
  {
   "cell_type": "markdown",
   "metadata": {},
   "source": [
    "### Recursion"
   ]
  },
  {
   "cell_type": "markdown",
   "metadata": {},
   "source": [
    "### CollegeBoard Requirements\n",
    "\n",
    "    Skill 1.B:Determine code that would be used to complete code segments (ie For, While, Recursion)\n",
    "\n",
    "I created functions that use For, While, and Recursion loops\n",
    "\n",
    "    Skill 4.C: Determine if two or more code segments yield equivalent results (be sure to Discuss how you know results are the same)\n",
    "\n",
    "Yes because the outputs are the same and I can see that visually. I also could plug both function outputs into a function to determine if theyre equivalent.\n",
    "\n",
    "    Skill 5.A: Describe the behavior of a given segment of program code (describe the difference in recursion versus for & while loops, perhaps add timing to determine speed)\n",
    "\n",
    "I put comments in my code to describe it"
   ]
  }
 ],
 "metadata": {
  "kernelspec": {
   "display_name": "Java",
   "language": "java",
   "name": "java"
  },
  "language_info": {
   "codemirror_mode": "java",
   "file_extension": ".jshell",
   "mimetype": "text/x-java-source",
   "name": "java",
   "pygments_lexer": "java",
   "version": "11.0.16+8-post-Ubuntu-0ubuntu122.04"
  },
  "orig_nbformat": 4,
  "vscode": {
   "interpreter": {
    "hash": "916dbcbb3f70747c44a77c7bcd40155683ae19c65e1c03b4aa3499c5328201f1"
   }
  }
 },
 "nbformat": 4,
 "nbformat_minor": 2
}
