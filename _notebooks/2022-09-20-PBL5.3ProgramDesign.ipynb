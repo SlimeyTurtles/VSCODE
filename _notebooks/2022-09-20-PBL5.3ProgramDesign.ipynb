{
 "cells": [
  {
   "cell_type": "markdown",
   "metadata": {},
   "source": [
    "# 5.3 Program Design\n",
    "> [Link to assignment](https://nighthawkcoders.github.io/APCSA//collegeboard/design)\n",
    "\n",
    "- layout: default\n",
    "- categories: [week5, pbl]\n",
    "- permalink: /week5/3"
   ]
  }
 ],
 "metadata": {
  "kernelspec": {
   "display_name": "Python 3.10.4 64-bit",
   "language": "python",
   "name": "python3"
  },
  "language_info": {
   "name": "python",
   "version": "3.10.4"
  },
  "orig_nbformat": 4,
  "vscode": {
   "interpreter": {
    "hash": "916dbcbb3f70747c44a77c7bcd40155683ae19c65e1c03b4aa3499c5328201f1"
   }
  }
 },
 "nbformat": 4,
 "nbformat_minor": 2
}
