{
 "cells": [
  {
   "cell_type": "markdown",
   "metadata": {},
   "source": [
    "# Unit 3 Boolean & If Statements\n",
    "> Avinh Huynh\n",
    "\n",
    "- layout: default\n",
    "- categories: [units]\n",
    "- permalink: /units/3"
   ]
  },
  {
   "cell_type": "markdown",
   "metadata": {},
   "source": [
    "# 2009 FRQ 3b"
   ]
  },
  {
   "cell_type": "code",
   "execution_count": null,
   "metadata": {},
   "outputs": [],
   "source": [
    "public class BatteryCharger {\n",
    "\n",
    "    public int getChargeStartTime(int chargeTime) {\n",
    "        \n",
    "        int chargeStartTime = getChargingCost(0, chargeTime);\n",
    "        \n",
    "        for (int startHour = 0; startHour<=23; startHour++)\n",
    "            \n",
    "            int newChargeTime = getChargingCost(startHour, chargeTime);\n",
    "            if (chargeStartTime > newChargeTime) {\n",
    "                chargeStartTime = newChargeTime;\n",
    "            }\n",
    "        \n",
    "        return chargeStartTime;\n",
    "    }\n",
    "\n",
    "}"
   ]
  },
  {
   "cell_type": "markdown",
   "metadata": {},
   "source": [
    "# 2017 FRQ 1b"
   ]
  },
  {
   "cell_type": "code",
   "execution_count": null,
   "metadata": {},
   "outputs": [],
   "source": [
    "public class Digits {\n",
    "\n",
    "    public boolean isStrictlyIncreasing() {\n",
    "        \n",
    "        for (int i = 1; i < digitList.size(); i++) {\n",
    "            if (digitList.get(i-1).intValue() < digitList.get(i).intValue()) {\n",
    "                return true;\n",
    "            }\n",
    "        }\n",
    "\n",
    "        return false;\n",
    "    }\n",
    "}"
   ]
  },
  {
   "cell_type": "markdown",
   "metadata": {},
   "source": [
    "# 2019 FRQ 3b"
   ]
  },
  {
   "cell_type": "code",
   "execution_count": null,
   "metadata": {},
   "outputs": [],
   "source": [
    "public boolean isBalanced(ArrayList<String> delimiters){\n",
    "    int count;\n",
    "    for (String delimiter : delimiters) {\n",
    "        if (delimiter.Equals(this.openDel)) {\n",
    "            count++;\n",
    "        } else {\n",
    "            count--;\n",
    "        }\n",
    "    }\n",
    "\n",
    "    if (count == 0) {\n",
    "        return true;\n",
    "    } else {\n",
    "        return false;\n",
    "    }\n",
    "}"
   ]
  }
 ],
 "metadata": {
  "kernelspec": {
   "display_name": "Java",
   "language": "java",
   "name": "java"
  },
  "language_info": {
   "name": "java",
   "version": "3.8.10"
  },
  "orig_nbformat": 4,
  "vscode": {
   "interpreter": {
    "hash": "916dbcbb3f70747c44a77c7bcd40155683ae19c65e1c03b4aa3499c5328201f1"
   }
  }
 },
 "nbformat": 4,
 "nbformat_minor": 2
}
