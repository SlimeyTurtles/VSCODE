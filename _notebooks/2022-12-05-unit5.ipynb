{
 "cells": [
  {
   "cell_type": "markdown",
   "metadata": {},
   "source": [
    "# Unit 5 Boolean & If Statements\n",
    "> Avinh Huynh\n",
    "\n",
    "- layout: default\n",
    "- categories: [units]\n",
    "- permalink: /units/5"
   ]
  },
  {
   "cell_type": "markdown",
   "metadata": {},
   "source": [
    "# 2021 FRQ 1a"
   ]
  },
  {
   "cell_type": "code",
   "execution_count": null,
   "metadata": {},
   "outputs": [],
   "source": [
    "public class WordMatch {\n",
    "    \n",
    "    /** The secret string. */\n",
    "    private String secret;\n",
    "\n",
    "    /** Constructs a WordMatch object with the given secret string of lowercase letters. */\n",
    "    public WordMatch(String word) {\n",
    "    /* implementation not shown */\n",
    "    }\n",
    "\n",
    "    /** Returns a score for guess, as described in part (a).\n",
    "    * Precondition: 0 < guess.length() <= secret.length()\n",
    "    */\n",
    "    public int scoreGuess(String guess) {\n",
    "        \n",
    "        int count = 0;\n",
    "        \n",
    "        for (int i = 0; i < word.length()-guess.length(); i++) {\n",
    "            if (word.substring(i, i+guess.length()).equals(guess)) {\n",
    "                count++;\n",
    "            }\n",
    "        }\n",
    "\n",
    "        return count * guess.length() * guess.length();\n",
    "    }\n",
    "\n",
    "    /** Returns the better of two guesses, as determined by scoreGuess and the rules for a\n",
    "    * tie-breaker that are described in part (b).\n",
    "    * Precondition: guess1 and guess2 contain all lowercase letters.\n",
    "    * guess1 is not the same as guess2.\n",
    "    */\n",
    "    public String findBetterGuess(String guess1, String guess2) { \n",
    "        /* to be implemented in part (b) */ \n",
    "    }\n",
    "} "
   ]
  },
  {
   "cell_type": "markdown",
   "metadata": {},
   "source": [
    "# 2021 FRQ 3a"
   ]
  },
  {
   "cell_type": "code",
   "execution_count": null,
   "metadata": {},
   "outputs": [],
   "source": [
    "public class MemberInfo {\n",
    "\n",
    "    /** Constructs a MemberInfo object for the club member with name name,\n",
    "    * graduation year gradYear, and standing hasGoodStanding.\n",
    "    */\n",
    "    public MemberInfo(String name, int gradYear, boolean hasGoodStanding)\n",
    "    { /* implementation not shown */ }\n",
    "\n",
    "    /** Returns the graduation year of the club member. */\n",
    "    public int getGradYear()\n",
    "    { /* implementation not shown */ }\n",
    "\n",
    "    /** Returns true if the member is in good standing and false otherwise. */\n",
    "    public boolean inGoodStanding()\n",
    "    { /* implementation not shown */ }\n",
    "    \n",
    "    // There may be instance variables, constructors, and methods that are not shown.\n",
    "} "
   ]
  },
  {
   "cell_type": "code",
   "execution_count": null,
   "metadata": {},
   "outputs": [],
   "source": [
    "public class ClubMembers {\n",
    "\n",
    "    private ArrayList<MemberInfo> memberList;\n",
    "\n",
    "    /** Adds new club members to memberList, as described in part (a).\n",
    "    * Precondition: names is a non-empty array.\n",
    "    */\n",
    "    public void addMembers(String[] names, int gradYear) {\n",
    "        for (String name : names) {\n",
    "            memberList.add(MemberInfo(name. gradYear, true));\n",
    "        }\n",
    "    }\n",
    "\n",
    "    /** Removes members who have graduated and returns a list of members who have graduated\n",
    "    * and are in good standing, as described in part (b).\n",
    "    */\n",
    "    public ArrayList<MemberInfo> removeMembers(int year)\n",
    "    { /* to be implemented in part (b) */ }\n",
    "\n",
    "    // There may be instance variables, constructors, and methods that are not shown.\n",
    "} "
   ]
  }
 ],
 "metadata": {
  "kernelspec": {
   "display_name": "Java",
   "language": "java",
   "name": "java"
  },
  "language_info": {
   "name": "java",
   "version": "3.8.10"
  },
  "orig_nbformat": 4,
  "vscode": {
   "interpreter": {
    "hash": "916dbcbb3f70747c44a77c7bcd40155683ae19c65e1c03b4aa3499c5328201f1"
   }
  }
 },
 "nbformat": 4,
 "nbformat_minor": 2
}
