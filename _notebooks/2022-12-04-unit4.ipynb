{
 "cells": [
  {
   "cell_type": "markdown",
   "metadata": {},
   "source": [
    "# Unit 3 Boolean & If Statements\n",
    "> Avinh Huynh\n",
    "\n",
    "- layout: default\n",
    "- categories: [units]\n",
    "- permalink: /units/3"
   ]
  },
  {
   "cell_type": "markdown",
   "metadata": {},
   "source": [
    "# Part 1\n",
    "\n",
    "Write a program where the user inputs their monthly budget. The loop should then ask the user to input each of their monthly expenses. These expenses should be kept in a running total. The final output should display if the user is over or under their budget for the month, and by how much."
   ]
  },
  {
   "cell_type": "code",
   "execution_count": 22,
   "metadata": {
    "vscode": {
     "languageId": "java"
    }
   },
   "outputs": [
    {
     "name": "stdout",
     "output_type": "stream",
     "text": [
      "Enter the monthly budget for january: \n",
      "Enter the monthly budget for february: \n",
      "Enter the monthly budget for march: \n",
      "Enter the monthly budget for april: \n",
      "Enter the monthly budget for may: \n",
      "Enter the monthly budget for june: \n",
      "Enter the monthly budget for july: \n",
      "Enter the monthly budget for august: \n",
      "Enter the monthly budget for september: \n",
      "Enter the monthly budget for october: \n",
      "Enter the monthly budget for november: \n",
      "Enter the monthly budget for december: \n",
      "Enter the monthly expenses for january: \n",
      "Enter the monthly expenses for february: \n",
      "Enter the monthly expenses for march: \n",
      "Enter the monthly expenses for april: \n",
      "Enter the monthly expenses for may: \n",
      "Enter the monthly expenses for june: \n",
      "Enter the monthly expenses for july: \n",
      "Enter the monthly expenses for august: \n",
      "Enter the monthly expenses for september: \n",
      "Enter the monthly expenses for october: \n",
      "Enter the monthly expenses for november: \n",
      "Enter the monthly expenses for december: \n",
      "Your difference is -617\n"
     ]
    }
   ],
   "source": [
    "import java.util.HashMap;\n",
    "import java.util.ArrayList;\n",
    "import java.util.Arrays;\n",
    "import java.util.Scanner;\n",
    "\n",
    "public class Budget {\n",
    "\n",
    "    static ArrayList<String> months = new ArrayList<>(Arrays.asList(\n",
    "        \"january\",\n",
    "        \"february\",\n",
    "        \"march\",\n",
    "        \"april\",\n",
    "        \"may\",\n",
    "        \"june\",\n",
    "        \"july\",\n",
    "        \"august\",\n",
    "        \"september\",\n",
    "        \"october\",\n",
    "        \"november\",\n",
    "        \"december\"\n",
    "    ));\n",
    "\n",
    "    private HashMap<String, Integer> monthlyExpenses;\n",
    "    private HashMap<String, Integer> monthlyBudget;\n",
    "\n",
    "    public Budget() {\n",
    "        this.monthlyExpenses = new HashMap<>();\n",
    "        this.monthlyBudget = new HashMap<>();\n",
    "    }\n",
    "\n",
    "    public void setMonthlyExpenses() {\n",
    "\n",
    "        Scanner scanner = new Scanner(System.in);\n",
    "\n",
    "        for (String month : months) {\n",
    "        \n",
    "            System.out.println(\"Enter the monthly expenses for \" + month + \": \");\n",
    "            String input = scanner.nextLine();\n",
    "            this.monthlyExpenses.put(month, Integer.parseInt(input));\n",
    "\n",
    "        }\n",
    "\n",
    "        \n",
    "    }\n",
    "    \n",
    "    public void setMonthlyBudget() {\n",
    "     \n",
    "        Scanner scanner = new Scanner(System.in);\n",
    "\n",
    "        for (String month : months) {\n",
    "        \n",
    "            System.out.println(\"Enter the monthly budget for \" + month + \": \");\n",
    "            String input = scanner.nextLine();\n",
    "            this.monthlyBudget.put(month, Integer.parseInt(input));\n",
    "\n",
    "        }\n",
    "\n",
    "    }\n",
    "\n",
    "    public int findDifference() {\n",
    "        int sum = 0;\n",
    "\n",
    "        for (String month : months) {\n",
    "            sum += monthlyBudget.get(month);\n",
    "            sum -= monthlyExpenses.get(month);\n",
    "        }\n",
    "\n",
    "        return sum;\n",
    "    }\n",
    "\n",
    "    public void findDifferenceToString() {\n",
    "        System.out.println(\"Your difference is \" + this.findDifference());\n",
    "    }\n",
    "\n",
    "    public static void main(String[] args) {\n",
    "        Budget budget = new Budget();\n",
    "        budget.setMonthlyBudget();\n",
    "        budget.setMonthlyExpenses();\n",
    "        budget.findDifferenceToString();\n",
    "    }\n",
    "}\n",
    "\n",
    "Budget.main(null);"
   ]
  },
  {
   "cell_type": "markdown",
   "metadata": {},
   "source": [
    "### Part 2\n",
    "\n",
    "![google test score](https://cdn.discordapp.com/attachments/804102854544719872/1049263946357555260/image.png)"
   ]
  }
 ],
 "metadata": {
  "kernelspec": {
   "display_name": "Java",
   "language": "java",
   "name": "java"
  },
  "language_info": {
   "codemirror_mode": "java",
   "file_extension": ".jshell",
   "mimetype": "text/x-java-source",
   "name": "Java",
   "pygments_lexer": "java",
   "version": "11.0.16+8-post-Ubuntu-0ubuntu120.04"
  },
  "orig_nbformat": 4
 },
 "nbformat": 4,
 "nbformat_minor": 2
}
