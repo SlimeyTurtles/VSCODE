{
 "cells": [
  {
   "cell_type": "markdown",
   "metadata": {},
   "source": [
    "# Avinh Week 3 Overview (2.5/3)\n",
    "> lists all of the hacks and requirements for this week\n",
    "\n",
    "- layout: default\n",
    "- categories: [week3, pbl]\n",
    "- permalink: /week3/0\n",
    "- comments: true"
   ]
  },
  {
   "cell_type": "markdown",
   "metadata": {},
   "source": [
    "# [MyConnect Requirements](https://poway.instructure.com/courses/127262/assignments/2353584)\n",
    "\n",
    "1. [Iteration Mini-lab](https://slimeyturtles.github.io/VSCODE/week3/1)\n",
    "2. Iteration in Spring Boot?\n",
    "3. [Focus/Habits](https://slimeyturtles.github.io/VSCODE/week3/3)\n",
    "4. [Deployment on AWS](https://slimeyturtles.github.io/VSCODE/week3/4)\n",
    "5. [Local Host](https://slimeyturtles.github.io/VSCODE/week3/5)\n"
   ]
  }
 ],
 "metadata": {
  "kernelspec": {
   "display_name": "Python 3.8.10 64-bit",
   "language": "python",
   "name": "python3"
  },
  "language_info": {
   "name": "python",
   "version": "3.8.10"
  },
  "orig_nbformat": 4,
  "vscode": {
   "interpreter": {
    "hash": "916dbcbb3f70747c44a77c7bcd40155683ae19c65e1c03b4aa3499c5328201f1"
   }
  }
 },
 "nbformat": 4,
 "nbformat_minor": 2
}
