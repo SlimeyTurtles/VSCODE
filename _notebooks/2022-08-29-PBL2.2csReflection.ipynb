{
 "cells": [
  {
   "cell_type": "markdown",
   "metadata": {},
   "source": [
    "# 2.2 Anthony and Sahil CS Reflections\n",
    "> [Link to assignment](https://nighthawkcoders.github.io/APCSA/techtalk/fastpages)\n",
    "\n",
    "- layout: default\n",
    "- categories: [week2]\n",
    "- permalink: /week2/2"
   ]
  }
 ],
 "metadata": {
  "language_info": {
   "name": "python"
  },
  "orig_nbformat": 4
 },
 "nbformat": 4,
 "nbformat_minor": 2
}
