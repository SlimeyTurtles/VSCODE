{
 "cells": [
  {
   "cell_type": "markdown",
   "metadata": {},
   "source": [
    "# 1.5 Fastpages\n",
    "> [Link to assignment](https://nighthawkcoders.github.io/APCSA/techtalk/fastpages)\n",
    "\n",
    "- layout: default\n",
    "- categories: [week1]\n",
    "- permalink: /week1/5"
   ]
  },
  {
   "cell_type": "markdown",
   "metadata": {},
   "source": [
    "# Notes\n",
    "\n",
    "- _notebooks is for ipynb\n",
    "- _posts is for .md and front end\n",
    "- _word is for .docx XDDD\n",
    "- home page is index.html\n",
    "- _pages is for navbar\n",
    "- _config.yml is same as config for old gh pages"
   ]
  },
  {
   "cell_type": "markdown",
   "metadata": {},
   "source": [
    "# Hacks\n",
    "\n",
    "- add _pages/notes.md: no i want to use my pages for other things and ill have my notes in the jupyter notebooks\n",
    "- add some personal study or work pages: ive already added a page for every hack I think thats good enough and ive created an organization system for my jupyter notebooks"
   ]
  }
 ],
 "metadata": {
  "kernelspec": {
   "display_name": "Python 3.8.10 64-bit",
   "language": "python",
   "name": "python3"
  },
  "language_info": {
   "name": "python",
   "version": "3.8.10"
  },
  "orig_nbformat": 4,
  "vscode": {
   "interpreter": {
    "hash": "916dbcbb3f70747c44a77c7bcd40155683ae19c65e1c03b4aa3499c5328201f1"
   }
  }
 },
 "nbformat": 4,
 "nbformat_minor": 2
}
