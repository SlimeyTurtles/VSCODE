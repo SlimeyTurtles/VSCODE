{
 "cells": [
  {
   "cell_type": "markdown",
   "metadata": {},
   "source": [
    "# Unit 1 Primitives\n",
    "> Avinh Huynh\n",
    "\n",
    "- layout: default\n",
    "- categories: [units]\n",
    "- permalink: /units/1"
   ]
  },
  {
   "cell_type": "markdown",
   "metadata": {},
   "source": [
    "# Notes\n",
    "\n",
    "img 1\n",
    "\n",
    "![image](https://cdn.discordapp.com/attachments/804102854544719872/1049076465976746044/image.png)\n",
    "\n",
    "img 2\n",
    "\n",
    "<img src=\"https://cdn.discordapp.com/attachments/804102854544719872/1049076465976746044/image.png\">\n",
    "\n",
    "img 3\n",
    "\n",
    "![Alt text](https://vscode-remote%2Bwsl-002bubuntu.vscode-resource.vscode-cdn.net/home/avinh/VSCODE/VSCODE/images/units/unit1.1.png?version%3D1670189753825)"
   ]
  }
 ],
 "metadata": {
  "kernelspec": {
   "display_name": "Python 3.8.10 64-bit",
   "language": "python",
   "name": "python3"
  },
  "language_info": {
   "codemirror_mode": {
    "name": "ipython",
    "version": 3
   },
   "file_extension": ".py",
   "mimetype": "text/x-python",
   "name": "python",
   "nbconvert_exporter": "python",
   "pygments_lexer": "ipython3",
   "version": "3.8.10"
  },
  "orig_nbformat": 4,
  "vscode": {
   "interpreter": {
    "hash": "916dbcbb3f70747c44a77c7bcd40155683ae19c65e1c03b4aa3499c5328201f1"
   }
  }
 },
 "nbformat": 4,
 "nbformat_minor": 2
}
