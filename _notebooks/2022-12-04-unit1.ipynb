{
 "cells": [
  {
   "cell_type": "markdown",
   "metadata": {},
   "source": [
    "# Unit 1 Primitives\n",
    "> Avinh Huynh\n",
    "\n",
    "- layout: default\n",
    "- categories: [units]\n",
    "- permalink: /units/1"
   ]
  },
  {
   "cell_type": "markdown",
   "metadata": {},
   "source": [
    "# Notes\n",
    "\n",
    "img 1\n",
    "\n",
    "![image](https://cdn.discordapp.com/attachments/804102854544719872/1049076465976746044/image.png)\n",
    "\n",
    "img 3\n",
    "\n",
    "![Alt text](https://vscode-remote%2Bwsl-002bubuntu.vscode-resource.vscode-cdn.net/home/avinh/VSCODE/VSCODE/images/units/unit1.1.png?version%3D1670189753825)"
   ]
  },
  {
   "cell_type": "markdown",
   "metadata": {},
   "source": [
    "# CSA 2006 FRQ 1"
   ]
  },
  {
   "cell_type": "code",
   "execution_count": null,
   "metadata": {},
   "outputs": [],
   "source": [
    "public class TimeInterval {\n",
    "\n",
    " // returns true if interval overlaps with this TimeInterval;\n",
    " // otherwise, returns false\n",
    " public boolean overlapsWith(TimeInterval interval){\n",
    "    \n",
    " }\n",
    "} "
   ]
  },
  {
   "cell_type": "code",
   "execution_count": null,
   "metadata": {},
   "outputs": [],
   "source": [
    "public class Appointment {\n",
    "    \n",
    "    // returns the time interval of this Appointment\n",
    "    public TimeInterval getTime(){\n",
    "    \n",
    "    }\n",
    "\n",
    "    // returns true if the time interval of this Appointment\n",
    "    // overlaps with the time interval of other;\n",
    "    // otherwise, returns false\n",
    "    public boolean conflictsWith(Appointment other){    // 1a\n",
    "        if this.getTime.overlapsWith(other.getTime()){\n",
    "            return true;\n",
    "        } else {\n",
    "            return false;\n",
    "        }\n",
    "    } \n",
    "}"
   ]
  },
  {
   "cell_type": "code",
   "execution_count": null,
   "metadata": {},
   "outputs": [],
   "source": [
    "public class DailySchedule {\n",
    "    \n",
    "    // contains Appointment objects, no two Appointments overlap\n",
    "    private ArrayList apptList;\n",
    "    public DailySchedule(){ \n",
    "        apptList = new ArrayList(); }\n",
    " \n",
    "    // removes all appointments that overlap the given Appointment\n",
    "    // postcondition: all appointments that have a time conflict with\n",
    "    // appt have been removed from this DailySchedule\n",
    "    public void clearConflicts(Appointment appt){   // 1b\n",
    "        for (Appointment test : apptList) {\n",
    "            if this.conflictsWith(appt) {\n",
    "                apptList.remove(Integer.valueOf(appt));\n",
    "            }\n",
    "        }\n",
    "    }\n",
    "    \n",
    "    // if emergency is true, clears any overlapping appointments and adds\n",
    "    // appt to this DailySchedule; otherwise, if there are no conflicting\n",
    "    // appointments, adds appt to this DailySchedule;\n",
    "    // returns true if the appointment was added;\n",
    "    // otherwise, returns false\n",
    "    public boolean addAppt(Appointment appt, boolean emergency){\n",
    "        \n",
    "        // if its an emergency clear conflicts and return true\n",
    "        if (emergency == true) {\n",
    "            clearConflicts(appt);\n",
    "            apptList.add(appt);\n",
    "            return true;\n",
    "        }\n",
    "\n",
    "        // if its not an emergency check if there are conflicts\n",
    "        for (Appointment test : apptList) {\n",
    "\n",
    "            // if no conflicts remove the conflicting appointment\n",
    "            // add the new one and return true\n",
    "            if (test.conflictsWith(appt)) {\n",
    "                apptList.add(appt);\n",
    "                return true\n",
    "            }\n",
    "        }\n",
    "\n",
    "        // if there is a conflict \n",
    "        return false;\n",
    "    }\n",
    "\n",
    "    // There may be fields, constructors, and methods that are not shown.\n",
    "} \n"
   ]
  },
  {
   "cell_type": "markdown",
   "metadata": {},
   "source": [
    "# CSA 2006 FRQ 2a"
   ]
  },
  {
   "cell_type": "code",
   "execution_count": null,
   "metadata": {},
   "outputs": [],
   "source": [
    "public interface Item {\n",
    "    \n",
    "    double purchasePrice();\n",
    "\n",
    "} "
   ]
  },
  {
   "cell_type": "code",
   "execution_count": null,
   "metadata": {},
   "outputs": [],
   "source": [
    "public abstract class TaxableItem implements Item {\n",
    "   \n",
    "    private double taxRate;\n",
    "    public abstract double getListPrice();\n",
    "    \n",
    "    public TaxableItem(double rate) {\n",
    "        taxRate = rate; \n",
    "    }\n",
    "\n",
    "    // returns the price of the item including the tax\n",
    "    public double purchasePrice() { \n",
    "        int tax = this.purchasePrice * (1+this.taxRate);\n",
    "        return tax + this.purchasePrice\n",
    "    }\n",
    "}"
   ]
  },
  {
   "cell_type": "markdown",
   "metadata": {},
   "source": [
    "# CSA 2006 FRQ 3a"
   ]
  },
  {
   "cell_type": "code",
   "execution_count": null,
   "metadata": {},
   "outputs": [],
   "source": [
    "public class Customer {\n",
    "    // constructs a Customer with given name and ID number\n",
    "    public Customer(String name, int idNum)\n",
    "    { /* implementation not shown */ }\n",
    "    // returns the customer's name\n",
    "    public String getName()\n",
    "    { /* implementation not shown */ }\n",
    "    // returns the customer's id\n",
    "    public int getID()\n",
    "    { /* implementation not shown */ }\n",
    "    // returns 0 when this customer is equal to other;\n",
    "    // a positive integer when this customer is greater than other;\n",
    "    // a negative integer when this customer is less than other\n",
    "    public int compareCustomer(Customer other) {\n",
    "        \n",
    "        if (this.name.compareTo(other.getName) == 0) {\n",
    "            if (this.id > other.getID) {\n",
    "                return 1;\n",
    "            } else {\n",
    "                return -1;\n",
    "            }\n",
    "        }\n",
    "        return this.name.compareTo(other.getName);\n",
    "    }\n",
    "    // There may be fields, constructors, and methods that are not shown.\n",
    "} "
   ]
  }
 ],
 "metadata": {
  "kernelspec": {
   "display_name": "Java",
   "language": "java",
   "name": "java"
  },
  "language_info": {
   "codemirror_mode": {
    "name": "ipython",
    "version": 3
   },
   "file_extension": ".py",
   "mimetype": "text/x-python",
   "name": "java",
   "nbconvert_exporter": "python",
   "pygments_lexer": "ipython3",
   "version": "3.8.10"
  },
  "orig_nbformat": 4,
  "vscode": {
   "interpreter": {
    "hash": "916dbcbb3f70747c44a77c7bcd40155683ae19c65e1c03b4aa3499c5328201f1"
   }
  }
 },
 "nbformat": 4,
 "nbformat_minor": 2
}
