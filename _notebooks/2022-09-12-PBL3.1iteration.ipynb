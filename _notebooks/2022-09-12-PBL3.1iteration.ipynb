{
 "cells": [
  {
   "cell_type": "markdown",
   "metadata": {},
   "source": [
    "# 3.1 Iteration minilab\n",
    "> [Link to assignment](https://nighthawkcoders.github.io/APCSA//unit/3)\n",
    "\n",
    "- layout: default\n",
    "- categories: [week3, pbl]\n",
    "- permalink: /week3/1"
   ]
  },
  {
   "cell_type": "markdown",
   "metadata": {},
   "source": [
    "### Explain if, if-else, and if-elseif-else.\n",
    "- if: runs code if a condition is true"
   ]
  },
  {
   "cell_type": "code",
   "execution_count": 1,
   "metadata": {},
   "outputs": [
    {
     "name": "stdout",
     "output_type": "stream",
     "text": [
      "Condition is true\n"
     ]
    }
   ],
   "source": [
    "boolean condition = true;\n",
    "if (condition) {\n",
    "    System.out.println(\"Condition is true\");\n",
    "}"
   ]
  },
  {
   "cell_type": "markdown",
   "metadata": {},
   "source": [
    "- if-else: runs code if a condition is true, but if not, it will run different code"
   ]
  },
  {
   "cell_type": "code",
   "execution_count": null,
   "metadata": {},
   "outputs": [],
   "source": [
    "boolean condition = false;\n",
    "if (condition) {\n",
    "    System.out.println(\"Condition is true\");\n",
    "} else {\n",
    "    System.out.println(\"Condition is not true\");\n",
    "}"
   ]
  },
  {
   "cell_type": "markdown",
   "metadata": {},
   "source": [
    "- if-elseif-else: runs code if a condition is true, if not it does something else. Checks another condition if it were true, and again does something different if it is not."
   ]
  },
  {
   "cell_type": "code",
   "execution_count": 2,
   "metadata": {},
   "outputs": [
    {
     "name": "stdout",
     "output_type": "stream",
     "text": [
      "Condition A is true\n",
      "Condition B is not true\n"
     ]
    }
   ],
   "source": [
    "boolean conditionA = true;\n",
    "boolean conditionB = false;\n",
    "\n",
    "if (conditionA) {\n",
    "    System.out.println(\"Condition A is true\");\n",
    "} else {\n",
    "    System.out.println(\"Condition A is not true\");\n",
    "} if (conditionB) {\n",
    "    System.out.println(\"Condition B is true\");\n",
    "} else {\n",
    "    System.out.println(\"Condition B is not true\");\n",
    "}"
   ]
  },
  {
   "cell_type": "markdown",
   "metadata": {},
   "source": [
    "### Create and if-elseif-elseif-elsif-else statement, 5 or more conditions."
   ]
  },
  {
   "cell_type": "code",
   "execution_count": 4,
   "metadata": {},
   "outputs": [
    {
     "name": "stdout",
     "output_type": "stream",
     "text": [
      "Val: 3\n"
     ]
    }
   ],
   "source": [
    "int val = 3;    // declares the value\n",
    "\n",
    "if (val == 0) { // checks if value is 0\n",
    "    System.out.println(\"Val: 0\");  // prints value is 0 if it is true\n",
    "} else if (val == 1) {  // if not check if value is 1\n",
    "    System.out.println(\"Val: 1\"); // prints value is 1 if it is true\n",
    "} else if (val == 2) {  // if not check if value is 2\n",
    "    System.out.println(\"Val: 2\"); // etc\n",
    "} else if (val == 3) { // etc\n",
    "    System.out.println(\"Val: 3\");\n",
    "} else if (val == 4) {\n",
    "    System.out.println(\"Val: 4\");\n",
    "}"
   ]
  },
  {
   "cell_type": "markdown",
   "metadata": {},
   "source": [
    "### Covert the 5 or more decisions to a switch-case-case-case-case-otherwise."
   ]
  },
  {
   "cell_type": "code",
   "execution_count": 5,
   "metadata": {},
   "outputs": [
    {
     "name": "stdout",
     "output_type": "stream",
     "text": [
      "Val: 3\n"
     ]
    }
   ],
   "source": [
    "int val = 3;    // declares the value\n",
    "\n",
    "switch (val) {  // declares the switch-case and the variable being tested is 'val'\n",
    "    case 0: // if val is 0...\n",
    "        System.out.println(\"Val: 0\");   // print \"Val: 0\"\n",
    "        break;  // leaves the code block (same thing a closing curly bracket does)\n",
    "    case 1: // if val is 1...\n",
    "        System.out.println(\"Val: 1\");   // print \"Val: 1\"\n",
    "        break;  // leaves the code block\n",
    "    case 2:\n",
    "        System.out.println(\"Val: 2\");\n",
    "        break;\n",
    "    case 3:\n",
    "        System.out.println(\"Val: 3\");\n",
    "        break;\n",
    "    case 4:\n",
    "        System.out.println(\"Val: 4\");\n",
    "        break;\n",
    "}\n",
    "    "
   ]
  },
  {
   "cell_type": "markdown",
   "metadata": {},
   "source": [
    "### Describe De Morgan's law\n",
    "- not(A and B) = not A or not B\n",
    "- not(A or B) = not A and not B\n",
    "- the inverse of a function is equivalent to the same function with all variables being negative, and all ands/ors being switched"
   ]
  },
  {
   "cell_type": "markdown",
   "metadata": {},
   "source": [
    "### Illustrate De Morgan's law"
   ]
  },
  {
   "cell_type": "code",
   "execution_count": 18,
   "metadata": {},
   "outputs": [
    {
     "name": "stdout",
     "output_type": "stream",
     "text": [
      "function 1 passed\n",
      "De Morgan function 1 passed\n",
      "function 2 passed\n",
      "De Morgan function 2 passed\n",
      "function 3 passed\n",
      "De Morgan function 3 passed\n"
     ]
    }
   ],
   "source": [
    "boolean a = true;\n",
    "boolean b = false;\n",
    "\n",
    "if (a || b) {   // function 1\n",
    "    System.out.println(\"function 1 passed\");\n",
    "} if (!(!a && !b)) {   // De Morgan function 1\n",
    "    System.out.println(\"De Morgan function 1 passed\");\n",
    "}"
   ]
  },
  {
   "cell_type": "markdown",
   "metadata": {},
   "source": [
    "### Show some code running that shows understanding"
   ]
  },
  {
   "cell_type": "code",
   "execution_count": 19,
   "metadata": {},
   "outputs": [
    {
     "name": "stdout",
     "output_type": "stream",
     "text": [
      "function 2 passed\n",
      "De Morgan function 2 passed\n"
     ]
    }
   ],
   "source": [
    "boolean a = true;\n",
    "boolean b = false;\n",
    "\n",
    "if (!(a && b) || (b || b)) {   // function 2\n",
    "    System.out.println(\"function 2 passed\");\n",
    "} if (!(!(!a || !b) && (!b && !b))) {   // De Morgan function 2\n",
    "    System.out.println(\"De Morgan function 2 passed\");\n",
    "}"
   ]
  }
 ],
 "metadata": {
  "kernelspec": {
   "display_name": "Java",
   "language": "java",
   "name": "java"
  },
  "language_info": {
   "codemirror_mode": "java",
   "file_extension": ".jshell",
   "mimetype": "text/x-java-source",
   "name": "java",
   "pygments_lexer": "java",
   "version": "11.0.16+8-post-Ubuntu-0ubuntu120.04"
  },
  "orig_nbformat": 4,
  "vscode": {
   "interpreter": {
    "hash": "916dbcbb3f70747c44a77c7bcd40155683ae19c65e1c03b4aa3499c5328201f1"
   }
  }
 },
 "nbformat": 4,
 "nbformat_minor": 2
}
