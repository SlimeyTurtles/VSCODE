{
 "cells": [
  {
   "cell_type": "markdown",
   "metadata": {},
   "source": [
    "# Week 1 Overview\n",
    "> lists all of the hacks and requirements for this week\n",
    "\n",
    "- layout: default\n",
    "- categories: [week1]\n",
    "- permalink: /week1/0"
   ]
  },
  {
   "cell_type": "markdown",
   "metadata": {},
   "source": [
    "# [MyConnect Requirements](https://poway.instructure.com/courses/127262/assignments/2295018)\n",
    "\n",
    "- [Code.org up to lesson 5](https://slimeyturtles.github.io/VSCODE/week1/3)\n",
    "\n",
    "![picture of code.org](https://raw.githubusercontent.com/SlimeyTurtles/VSCODE/master/images/week1/1.3.png)\n",
    "\n",
    "- [Primitives Jupyter Notebook](https://slimeyturtles.github.io/VSCODE/week1/2)\n",
    "- [Bash Jupyter Notebook](https://slimeyturtles.github.io/VSCODE/week1/4)\n",
    "- [Fastpages Jupyter Notebook](https://slimeyturtles.github.io/VSCODE/week1/5)\n",
    "\n"
   ]
  },
  {
   "cell_type": "markdown",
   "metadata": {},
   "source": [
    "# Hacks\n",
    "### 1. Innovation (no hack)\n",
    "### [2. Primitives](https://slimeyturtles.github.io/VSCODE/week1/2)\n",
    "### [3. Code.org](https://slimeyturtles.github.io/VSCODE/week1/3)\n",
    "### [4. Bash and Checks](https://slimeyturtles.github.io/VSCODE/week1/4)\n",
    "### [5. Fastpages](https://slimeyturtles.github.io/VSCODE/week1/5)"
   ]
  }
 ],
 "metadata": {
  "kernelspec": {
   "display_name": "Python 3.8.10 64-bit",
   "language": "python",
   "name": "python3"
  },
  "language_info": {
   "name": "python",
   "version": "3.8.10"
  },
  "orig_nbformat": 4,
  "vscode": {
   "interpreter": {
    "hash": "916dbcbb3f70747c44a77c7bcd40155683ae19c65e1c03b4aa3499c5328201f1"
   }
  }
 },
 "nbformat": 4,
 "nbformat_minor": 2
}
