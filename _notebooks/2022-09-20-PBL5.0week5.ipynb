{
 "cells": [
  {
   "cell_type": "markdown",
   "metadata": {},
   "source": [
    "# Avinh Week 5 Overview (_/3)\n",
    "> lists all of the hacks and requirements for this week\n",
    "\n",
    "- layout: default\n",
    "- categories: [week5, pbl]\n",
    "- permalink: /week5/0\n",
    "- comments: true"
   ]
  },
  {
   "cell_type": "markdown",
   "metadata": {},
   "source": [
    "# [Requirements](https://nighthawkcoders.github.io/APCSA//points/5)\n",
    "\n",
    "### [1. Fibo, Extends and Data Modeling (Individual)](https://slimeyturtles.github.io/VSCODE/week5/1)\n",
    "### [2. JavaScript Tutorial](https://slimeyturtles.github.io/VSCODE/week5/2)\n",
    "### [3. Program Design](https://slimeyturtles.github.io/VSCODE/week5/3)"
   ]
  }
 ],
 "metadata": {
  "kernelspec": {
   "display_name": "Python 3.10.4 64-bit",
   "language": "python",
   "name": "python3"
  },
  "language_info": {
   "name": "python",
   "version": "3.10.4"
  },
  "orig_nbformat": 4,
  "vscode": {
   "interpreter": {
    "hash": "916dbcbb3f70747c44a77c7bcd40155683ae19c65e1c03b4aa3499c5328201f1"
   }
  }
 },
 "nbformat": 4,
 "nbformat_minor": 2
}
