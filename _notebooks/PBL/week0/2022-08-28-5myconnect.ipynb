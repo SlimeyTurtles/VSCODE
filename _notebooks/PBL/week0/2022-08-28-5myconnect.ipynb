{
 "cells": [
  {
   "cell_type": "markdown",
   "metadata": {},
   "source": [
    "# 0.5 MyConnect Requirements\n",
    "> [Link to assignment](https://poway.instructure.com/courses/127262/assignments/2206681)\n",
    "\n",
    "- layout: default\n",
    "- categories: [week0]\n",
    "- permalink: /week0/5"
   ]
  },
  {
   "cell_type": "markdown",
   "metadata": {},
   "source": [
    "[just go here](https://slimeyturtles.github.io/VSCODE/week0/4)"
   ]
  }
 ],
 "metadata": {
  "kernelspec": {
   "display_name": "Python 3.8.10 64-bit",
   "language": "python",
   "name": "python3"
  },
  "language_info": {
   "name": "python",
   "version": "3.8.10"
  },
  "orig_nbformat": 4,
  "vscode": {
   "interpreter": {
    "hash": "916dbcbb3f70747c44a77c7bcd40155683ae19c65e1c03b4aa3499c5328201f1"
   }
  }
 },
 "nbformat": 4,
 "nbformat_minor": 2
}
