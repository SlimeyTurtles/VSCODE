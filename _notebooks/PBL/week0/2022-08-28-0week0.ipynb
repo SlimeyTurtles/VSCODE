{
 "cells": [
  {
   "cell_type": "markdown",
   "metadata": {},
   "source": [
    "# Week 0 Overview\n",
    "> lists all of the hacks and requirements for this week\n",
    "\n",
    "- layout: default\n",
    "- categories: [week0]\n",
    "- permalink: /week0/overview"
   ]
  },
  {
   "cell_type": "markdown",
   "metadata": {},
   "source": [
    "### [1. Introduction EC](https://slimeyturtles.github.io/VSCODE/week0/1)\n",
    "### 2. Scoring Requirements (no hack)\n",
    "### [3. Anatomy of Java Hacks](https://slimeyturtles.github.io/VSCODE/week0/3)\n",
    "### [4. Tools and Equipment Hacks](https://slimeyturtles.github.io/VSCODE/week0/4)\n",
    "### [5. MyConnect Requirements](https://slimeyturtles.github.io/VSCODE/week0/5)"
   ]
  }
 ],
 "metadata": {
  "kernelspec": {
   "display_name": "Python 3.8.10 64-bit",
   "language": "python",
   "name": "python3"
  },
  "language_info": {
   "name": "python",
   "version": "3.8.10"
  },
  "orig_nbformat": 4,
  "vscode": {
   "interpreter": {
    "hash": "916dbcbb3f70747c44a77c7bcd40155683ae19c65e1c03b4aa3499c5328201f1"
   }
  }
 },
 "nbformat": 4,
 "nbformat_minor": 2
}
