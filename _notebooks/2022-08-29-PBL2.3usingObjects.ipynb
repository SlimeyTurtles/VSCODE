{
 "cells": [
  {
   "cell_type": "markdown",
   "metadata": {},
   "source": [
    "# 2.3 Using Objects\n",
    "> [Link to assignment](https://nighthawkcoders.github.io/APCSA/unit/2)\n",
    "\n",
    "- layout: default\n",
    "- categories: [week2, pbl]\n",
    "- permalink: /week2/3"
   ]
  }
 ],
 "metadata": {
  "kernelspec": {
   "display_name": "Python 3.9.12 ('base')",
   "language": "python",
   "name": "python3"
  },
  "language_info": {
   "name": "python",
   "version": "3.9.12"
  },
  "orig_nbformat": 4,
  "vscode": {
   "interpreter": {
    "hash": "9ecd47580672c8c4a8d2705681a2c122436ffbaf066777e21e559c2d85439e96"
   }
  }
 },
 "nbformat": 4,
 "nbformat_minor": 2
}
