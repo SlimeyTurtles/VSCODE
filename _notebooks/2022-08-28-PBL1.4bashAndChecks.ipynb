{
 "cells": [
  {
   "cell_type": "markdown",
   "metadata": {},
   "source": [
    "# 1.4 Bash and Check\n",
    "> [Link to assignment](https://nighthawkcoders.github.io/APCSA/techtalk/bash)\n",
    "- layout: default\n",
    "- categories: [week1, pbl]\n",
    "- permalink: /week1/4"
   ]
  },
  {
   "cell_type": "markdown",
   "metadata": {},
   "source": [
    "# Hacks\n",
    "\n",
    "- Is there anything we use to verify tools we install?\n",
    "\n",
    "yes, you can attempt to redownload a tool, or check its version."
   ]
  },
  {
   "cell_type": "code",
   "execution_count": 3,
   "metadata": {
    "vscode": {
     "languageId": "shellscript"
    }
   },
   "outputs": [
    {
     "name": "stdout",
     "output_type": "stream",
     "text": [
      "Python 3.9.12\n",
      "[sudo] password for avinh: \n"
     ]
    }
   ],
   "source": [
    "python --version\n",
    "sudo apt install python3\n"
   ]
  },
  {
   "cell_type": "markdown",
   "metadata": {},
   "source": [
    "### Is there anything we could verify with Anaconda?\n",
    "\n",
    "- when in anaconda, text should be prefixed with (base)\n",
    "\n",
    "![image of terminal with anaconda (base)](https://raw.githubusercontent.com/SlimeyTurtles/VSCODE/master/images/week1/1.4.png)"
   ]
  },
  {
   "cell_type": "markdown",
   "metadata": {},
   "source": [
    "### How would you update a repository?\n",
    "\n",
    "- pulling code"
   ]
  },
  {
   "cell_type": "code",
   "execution_count": 4,
   "metadata": {
    "vscode": {
     "languageId": "shellscript"
    }
   },
   "outputs": [
    {
     "name": "stdout",
     "output_type": "stream",
     "text": [
      "Already up to date.\n"
     ]
    }
   ],
   "source": [
    "git pull"
   ]
  },
  {
   "cell_type": "markdown",
   "metadata": {},
   "source": [
    "### Really cool would be automating a procedure from installation.\n",
    "\n",
    "- automating the procedure for installing? Michaels already doing that XDD\n",
    "- ill give it a try later"
   ]
  }
 ],
 "metadata": {
  "kernelspec": {
   "display_name": "Bash",
   "language": "bash",
   "name": "bash"
  },
  "language_info": {
   "codemirror_mode": "shell",
   "file_extension": ".sh",
   "mimetype": "text/x-sh",
   "name": "bash"
  },
  "orig_nbformat": 4,
  "vscode": {
   "interpreter": {
    "hash": "916dbcbb3f70747c44a77c7bcd40155683ae19c65e1c03b4aa3499c5328201f1"
   }
  }
 },
 "nbformat": 4,
 "nbformat_minor": 2
}
