{
 "cells": [
  {
   "cell_type": "markdown",
   "metadata": {},
   "source": [
    "# 3.3 Focus and Habits\n",
    "> [Link to assignment](https://nighthawkcoders.github.io/APCSA//techtalk/focus)\n",
    "\n",
    "- layout: default\n",
    "- categories: [week3, pbl]\n",
    "- permalink: /week3/3"
   ]
  },
  {
   "cell_type": "markdown",
   "metadata": {},
   "source": [
    "![](https://raw.githubusercontent.com/SlimeyTurtles/VSCODE/master/images/week3/3.3.png)\n",
    "\n",
    "- heres a list of various projects i want to work on or currently am\n",
    "- i write down **ALL** of my ideas no matter how dumb or infeasible\n",
    "\n",
    "![robots](https://cdn.discordapp.com/attachments/807916327775371264/1019150037781053480/unknown.png)\n",
    "![physics](https://cdn.discordapp.com/attachments/807916327775371264/1019150123156115486/unknown.png)\n",
    "![fog](https://cdn.discordapp.com/attachments/807916327775371264/1019150232702947358/unknown.png)\n",
    "\n",
    "- its like blogging but ive been doing it before i knew jupyternbs\n",
    "- this method is good because i get feedback from my friends\n",
    "- they tell me a lot i cant do things but they cant set the limits of what i can or cant do"
   ]
  }
 ],
 "metadata": {
  "kernelspec": {
   "display_name": "Python 3.8.10 64-bit",
   "language": "python",
   "name": "python3"
  },
  "language_info": {
   "name": "python",
   "version": "3.8.10"
  },
  "orig_nbformat": 4,
  "vscode": {
   "interpreter": {
    "hash": "916dbcbb3f70747c44a77c7bcd40155683ae19c65e1c03b4aa3499c5328201f1"
   }
  }
 },
 "nbformat": 4,
 "nbformat_minor": 2
}
