{
 "cells": [
  {
   "cell_type": "markdown",
   "metadata": {},
   "source": [
    "# Vocab\n",
    "> [Link to assignment](https://nighthawkcoders.github.io/APCSA//points/14)\n",
    "- layout: default\n",
    "- categories: [testprep]\n",
    "- permalink: /vocab"
   ]
  },
  {
   "cell_type": "markdown",
   "metadata": {},
   "source": [
    "- Casting for division: if you are dividing 2 ints into a number that is a decimal, that number should be cast as a float"
   ]
  },
  {
   "cell_type": "code",
   "execution_count": 4,
   "metadata": {},
   "outputs": [
    {
     "name": "stdout",
     "output_type": "stream",
     "text": [
      "1.6666666\n"
     ]
    }
   ],
   "source": [
    "int val1 = 5;\n",
    "int val2 = 3;\n",
    "\n",
    "float res = (float) val1/val2; // (float) is the cast\n",
    "\n",
    "System.out.println(res);"
   ]
  },
  {
   "cell_type": "markdown",
   "metadata": {},
   "source": [
    "- Casting for trunkating and rounding: by casting a double into an int, the number is trunkated/rounded by removing the decimal"
   ]
  },
  {
   "cell_type": "code",
   "execution_count": 11,
   "metadata": {},
   "outputs": [
    {
     "name": "stdout",
     "output_type": "stream",
     "text": [
      "1\n"
     ]
    }
   ],
   "source": [
    "int val1 = 5;\n",
    "int val2 = 3;\n",
    "\n",
    "int res = val1/val2; // (float) is the cast\n",
    "\n",
    "System.out.println(res);"
   ]
  },
  {
   "cell_type": "markdown",
   "metadata": {},
   "source": [
    "- Wrapper class: it lets you use a primitive as an object, and perform methods on them"
   ]
  },
  {
   "cell_type": "code",
   "execution_count": 16,
   "metadata": {},
   "outputs": [
    {
     "name": "stdout",
     "output_type": "stream",
     "text": [
      "2\n"
     ]
    },
    {
     "ename": "CompilationException",
     "evalue": "",
     "output_type": "error",
     "traceback": [
      "\u001b[1m\u001b[30m|   \u001b[1m\u001b[30mSystem.out.println(\u001b[0m\u001b[1m\u001b[30m\u001b[41mval.intValue\u001b[0m\u001b[1m\u001b[30m());\u001b[0m",
      "\u001b[1m\u001b[31mint cannot be dereferenced\u001b[0m",
      ""
     ]
    }
   ],
   "source": [
    "Integer val2 = 2;\n",
    "System.out.println(val2.intValue());\n",
    "\n",
    "\n",
    "int val = 2;\n",
    "System.out.println(val.intValue());"
   ]
  },
  {
   "cell_type": "markdown",
   "metadata": {},
   "source": [
    "- Concatenation: convert everything to strings and add them end to end"
   ]
  },
  {
   "cell_type": "code",
   "execution_count": 18,
   "metadata": {},
   "outputs": [
    {
     "name": "stdout",
     "output_type": "stream",
     "text": [
      "Hello world 1\n"
     ]
    }
   ],
   "source": [
    "String world = \"world\";\n",
    "System.out.println(\"Hello \" + world + \" \" + 1);"
   ]
  },
  {
   "cell_type": "markdown",
   "metadata": {},
   "source": [
    "- Math class: an import used to do math functions. Math.random() generates a random number"
   ]
  },
  {
   "cell_type": "code",
   "execution_count": 23,
   "metadata": {},
   "outputs": [
    {
     "name": "stdout",
     "output_type": "stream",
     "text": [
      "0.889016555574831\n",
      "0.20211756754433519\n",
      "0.018498405592415446\n"
     ]
    }
   ],
   "source": [
    "import java.lang.Math;\n",
    "\n",
    "System.out.println(Math.random());\n",
    "System.out.println(Math.random());\n",
    "System.out.println(Math.random());"
   ]
  },
  {
   "cell_type": "markdown",
   "metadata": {},
   "source": [
    "- Compound boolean expression: combinations of expressions by using && or ||."
   ]
  },
  {
   "cell_type": "code",
   "execution_count": 25,
   "metadata": {},
   "outputs": [
    {
     "name": "stdout",
     "output_type": "stream",
     "text": [
      "or true\n"
     ]
    }
   ],
   "source": [
    "boolean x = true;\n",
    "boolean y = false;\n",
    "\n",
    "if (x&&y) {\n",
    "    System.out.println(\"and true\");\n",
    "}\n",
    "\n",
    "if (x||y) {\n",
    "    System.out.println(\"or true\");\n",
    "}"
   ]
  },
  {
   "cell_type": "markdown",
   "metadata": {},
   "source": [
    "- Truth Tables: a table that shows the combinations of inputs and their respective outputs for boolean expressions\n",
    "\n",
    "![](https://www.computerscience.gcse.guru/wp-content/uploads/2019/07/xor-truth-table.png)"
   ]
  },
  {
   "cell_type": "markdown",
   "metadata": {},
   "source": [
    "- De Morgan's law: a compound expression is = to the same expression with the && and || switched and everything is !"
   ]
  },
  {
   "cell_type": "code",
   "execution_count": 28,
   "metadata": {},
   "outputs": [
    {
     "name": "stdout",
     "output_type": "stream",
     "text": [
      "test1\n",
      "test2\n"
     ]
    }
   ],
   "source": [
    "boolean x = true;\n",
    "boolean y = true;\n",
    "\n",
    "if (x&&y) {\n",
    "    System.out.println(\"test1\");\n",
    "}\n",
    "\n",
    "if (!(!x||!y)) {\n",
    "    System.out.println(\"test2\");\n",
    "}"
   ]
  },
  {
   "cell_type": "markdown",
   "metadata": {},
   "source": [
    "- Comparing Numbers: if x == y?"
   ]
  },
  {
   "cell_type": "markdown",
   "metadata": {},
   "source": [
    "- Comparing Strings: String.equals(otherString);\n",
    "- Comparing objects: Object.equals(otherObject);\n",
    "- For loop: for (int i = 5; i >0; i--) {} use this for when you need to count by more than one or its not in a list\n",
    "- Enhanced for loop: for (int i : arr) {} use this when you need to perform a method on each item in an arrayList\n",
    "- While loop vs Do while loop: while loop runs while a conditions true, while do while loop runs once and then checks the condition\n",
    "- Nested loop: used when you want to search a multidimensional arraylist (2d 3d Array etc)\n",
    "- Creating a class: public class Class {} should have a constructor and can have a 1 arguement constructor or multiple arguement constructor. Name of class should be caps and the name of the file.\n",
    "- Constructor: allocates parameters to the methods private variables. Can be a no arguement constructor, multi arguement constructor, or all arg constructor\n",
    "- Accesor method: example is a getter. returns a variable type. Just returns this.var() so you can access a private variable for a specific object\n",
    "- Mutator method: Updates a variable inside of the object. Doesnt have to return something in which it would be void.\n",
    "- Static variable is a variable that does not update (you can use final). Class variable is a variable somethig that can be accessed from in and out of the class. private is for something that can only be used by the object. Protectdd is like public but it cant be accessed outside of the package\n",
    "- Static is for methods that belong to the whole class instead of just one object.\n",
    "- this: this is used to call specific variables of an object (this.variable)\n",
    "- main method: This is typically used as a tester method to test all of the variables and functions work in a POJO. It lets you test your code even if it depends on other files to work\n",
    "- Inheritance: allows you to extend one java file and its methods and variables into another and save code (ie flower extends plant because a flower has all the attributes of a plant)\n",
    "- subclass construcor: instead of instantiating as this.var = var set it as super(var)\n",
    "- Overloading a method: it lets you pass different combinations of parameters\n",
    "- overriding a method: overrides an inherited method so that it does something else\n",
    "- Abstract class & method: a class that cant create objects but can only be extended. The method can also not be used but only extended\n",
    "- Standard method: toString() parses something into a string, equals() compares the values of two things, and hashCode() hashes something and encrypts it\n",
    "- Late binding of object: Used to instantiate an object when the type of that object is unknown\n",
    "- Polymorphism: allows you to implement the smae method in different ways by overloading, overriding, or latebinding\n",
    "- Big O notation: Allows you to estimate how effective a segment of code is\n",
    "    - Hashmap: O(1)\n",
    "    - Binary search: O(log N)\n",
    "    - Single loop: O(n)\n",
    "    - Nested loop: O(n^2)"
   ]
  }
 ],
 "metadata": {
  "kernelspec": {
   "display_name": "Java",
   "language": "java",
   "name": "java"
  },
  "language_info": {
   "codemirror_mode": "java",
   "file_extension": ".jshell",
   "mimetype": "text/x-java-source",
   "name": "java",
   "pygments_lexer": "java",
   "version": "17.0.5+8-Ubuntu-2ubuntu122.04"
  },
  "orig_nbformat": 4,
  "vscode": {
   "interpreter": {
    "hash": "916dbcbb3f70747c44a77c7bcd40155683ae19c65e1c03b4aa3499c5328201f1"
   }
  }
 },
 "nbformat": 4,
 "nbformat_minor": 2
}
