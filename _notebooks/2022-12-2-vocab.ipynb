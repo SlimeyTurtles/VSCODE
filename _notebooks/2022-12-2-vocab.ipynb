{
 "cells": [
  {
   "cell_type": "markdown",
   "metadata": {},
   "source": [
    "# Vocab\n",
    "> [Link to assignment](https://nighthawkcoders.github.io/APCSA//points/14)\n",
    "- layout: default\n",
    "- categories: [testprep]\n",
    "- permalink: /vocab"
   ]
  },
  {
   "cell_type": "markdown",
   "metadata": {},
   "source": [
    "- Casting for division: if you are dividing 2 ints into a number that is a decimal, that number should be cast as a float"
   ]
  },
  {
   "cell_type": "code",
   "execution_count": 4,
   "metadata": {
    "vscode": {
     "languageId": "java"
    }
   },
   "outputs": [
    {
     "name": "stdout",
     "output_type": "stream",
     "text": [
      "1.6666666\n"
     ]
    }
   ],
   "source": [
    "int val1 = 5;\n",
    "int val2 = 3;\n",
    "\n",
    "float res = (float) val1/val2; // (float) is the cast\n",
    "\n",
    "System.out.println(res);"
   ]
  },
  {
   "cell_type": "markdown",
   "metadata": {},
   "source": [
    "- Casting for trunkating and rounding: by casting a double into an int, the number is trunkated/rounded by removing the decimal"
   ]
  },
  {
   "cell_type": "code",
   "execution_count": 11,
   "metadata": {
    "vscode": {
     "languageId": "java"
    }
   },
   "outputs": [
    {
     "name": "stdout",
     "output_type": "stream",
     "text": [
      "1\n"
     ]
    }
   ],
   "source": [
    "int val1 = 5;\n",
    "int val2 = 3;\n",
    "\n",
    "int res = val1/val2; // (float) is the cast\n",
    "\n",
    "System.out.println(res);"
   ]
  },
  {
   "cell_type": "markdown",
   "metadata": {},
   "source": [
    "- Wrapper class: it lets you use a primitive as an object, and perform methods on them"
   ]
  },
  {
   "cell_type": "code",
   "execution_count": 16,
   "metadata": {
    "vscode": {
     "languageId": "java"
    }
   },
   "outputs": [
    {
     "name": "stdout",
     "output_type": "stream",
     "text": [
      "2\n"
     ]
    },
    {
     "ename": "CompilationException",
     "evalue": "",
     "output_type": "error",
     "traceback": [
      "\u001b[1m\u001b[30m|   \u001b[1m\u001b[30mSystem.out.println(\u001b[0m\u001b[1m\u001b[30m\u001b[41mval.intValue\u001b[0m\u001b[1m\u001b[30m());\u001b[0m",
      "\u001b[1m\u001b[31mint cannot be dereferenced\u001b[0m",
      ""
     ]
    }
   ],
   "source": [
    "Integer val2 = 2;\n",
    "System.out.println(val2.intValue());\n",
    "\n",
    "\n",
    "int val = 2;\n",
    "System.out.println(val.intValue());"
   ]
  },
  {
   "cell_type": "markdown",
   "metadata": {},
   "source": [
    "- Concatenation: convert everything to strings and add them end to end"
   ]
  },
  {
   "cell_type": "code",
   "execution_count": 18,
   "metadata": {
    "vscode": {
     "languageId": "java"
    }
   },
   "outputs": [
    {
     "name": "stdout",
     "output_type": "stream",
     "text": [
      "Hello world 1\n"
     ]
    }
   ],
   "source": [
    "String world = \"world\";\n",
    "System.out.println(\"Hello \" + world + \" \" + 1);"
   ]
  },
  {
   "cell_type": "markdown",
   "metadata": {},
   "source": [
    "- Math class: an import used to do math functions. Math.random() generates a random number"
   ]
  },
  {
   "cell_type": "code",
   "execution_count": 23,
   "metadata": {
    "vscode": {
     "languageId": "java"
    }
   },
   "outputs": [
    {
     "name": "stdout",
     "output_type": "stream",
     "text": [
      "0.889016555574831\n",
      "0.20211756754433519\n",
      "0.018498405592415446\n"
     ]
    }
   ],
   "source": [
    "import java.lang.Math;\n",
    "\n",
    "System.out.println(Math.random());\n",
    "System.out.println(Math.random());\n",
    "System.out.println(Math.random());"
   ]
  },
  {
   "cell_type": "markdown",
   "metadata": {},
   "source": [
    "- Compound boolean expression: combinations of expressions by using && or ||."
   ]
  },
  {
   "cell_type": "code",
   "execution_count": 25,
   "metadata": {
    "vscode": {
     "languageId": "java"
    }
   },
   "outputs": [
    {
     "name": "stdout",
     "output_type": "stream",
     "text": [
      "or true\n"
     ]
    }
   ],
   "source": [
    "boolean x = true;\n",
    "boolean y = false;\n",
    "\n",
    "if (x&&y) {\n",
    "    System.out.println(\"and true\");\n",
    "}\n",
    "\n",
    "if (x||y) {\n",
    "    System.out.println(\"or true\");\n",
    "}"
   ]
  },
  {
   "cell_type": "markdown",
   "metadata": {},
   "source": [
    "- Truth Tables: a table that shows the combinations of inputs and their respective outputs for boolean expressions\n",
    "\n",
    "![](https://www.computerscience.gcse.guru/wp-content/uploads/2019/07/xor-truth-table.png)"
   ]
  },
  {
   "cell_type": "markdown",
   "metadata": {},
   "source": [
    "- De Morgan's law: a compound expression is = to the same expression with the && and || switched and everything is !"
   ]
  },
  {
   "cell_type": "code",
   "execution_count": 28,
   "metadata": {
    "vscode": {
     "languageId": "java"
    }
   },
   "outputs": [
    {
     "name": "stdout",
     "output_type": "stream",
     "text": [
      "test1\n",
      "test2\n"
     ]
    }
   ],
   "source": [
    "boolean x = true;\n",
    "boolean y = true;\n",
    "\n",
    "if (x&&y) {\n",
    "    System.out.println(\"test1\");\n",
    "}\n",
    "\n",
    "if (!(!x||!y)) {\n",
    "    System.out.println(\"test2\");\n",
    "}"
   ]
  },
  {
   "cell_type": "markdown",
   "metadata": {},
   "source": [
    "- Comparing Numbers: if x == y?"
   ]
  },
  {
   "cell_type": "code",
   "execution_count": 48,
   "metadata": {
    "vscode": {
     "languageId": "java"
    }
   },
   "outputs": [
    {
     "ename": "CompilationException",
     "evalue": "",
     "output_type": "error",
     "traceback": [
      "\u001b[1m\u001b[30m|   \u001b[1m\u001b[30mint \u001b[0m\u001b[1m\u001b[30m\u001b[41mx = 6\u001b[0m\u001b[1m\u001b[30m;\u001b[0m",
      "\u001b[1m\u001b[31mincompatible types: int cannot be converted to Object\u001b[0m",
      ""
     ]
    }
   ],
   "source": [
    "int x = 6;\n",
    "int y = 5;\n",
    "\n",
    "if (x==y) {\n",
    "    System.out.println(\"test1\");\n",
    "}\n",
    "\n",
    "y = 6;\n",
    "\n",
    "if (x==y) {\n",
    "    System.out.println(\"test2\");\n",
    "}"
   ]
  },
  {
   "cell_type": "markdown",
   "metadata": {},
   "source": [
    "- Comparing Strings: String.equals(otherString); equals compares the values and == compares the datatype, so obj.getVal() == obj2.getVal will return false, but .equals will return true"
   ]
  },
  {
   "cell_type": "code",
   "execution_count": 19,
   "metadata": {
    "vscode": {
     "languageId": "java"
    }
   },
   "outputs": [
    {
     "name": "stdout",
     "output_type": "stream",
     "text": [
      "test2\n",
      "test1\n"
     ]
    }
   ],
   "source": [
    "public class test {\n",
    "    static String x = \"hello\";\n",
    "    static String y = \"hello\";\n",
    "\n",
    "    public static void main(String[] args) {\n",
    "        \n",
    "        if (x.equals(y)) {\n",
    "            System.out.println(\"test2\");\n",
    "        }\n",
    "    \n",
    "        if (x == y) {\n",
    "            System.out.println(\"test1\");\n",
    "        }\n",
    "    }\n",
    "}\n",
    "\n",
    "test.main(null);"
   ]
  },
  {
   "cell_type": "markdown",
   "metadata": {},
   "source": [
    "- Comparing objects: Object.equals(otherObject);"
   ]
  },
  {
   "cell_type": "code",
   "execution_count": 10,
   "metadata": {
    "vscode": {
     "languageId": "java"
    }
   },
   "outputs": [
    {
     "name": "stdout",
     "output_type": "stream",
     "text": [
      "test1\n",
      "test2\n"
     ]
    }
   ],
   "source": [
    "public class Object {\n",
    "    \n",
    "    private String value;\n",
    "\n",
    "    public Object(String value) {\n",
    "        this.value = value;\n",
    "    }\n",
    "    public String getValue() {\n",
    "        return this.value;\n",
    "    }\n",
    "}\n",
    "\n",
    "Object obj1 = new Object(\"hello\");\n",
    "Object obj2 = new Object(\"hello\");\n",
    "\n",
    "if (obj1.getValue() == obj2.getValue()) {\n",
    "    System.out.println(\"test1\");\n",
    "}\n",
    "\n",
    "if (obj1.getValue().equals(obj2.getValue())) {\n",
    "    System.out.println(\"test2\");\n",
    "}"
   ]
  },
  {
   "cell_type": "markdown",
   "metadata": {},
   "source": [
    "- For loop: for (int i = 5; i >0; i--) {} use this for when you need to count by more than one or its not in a list"
   ]
  },
  {
   "cell_type": "code",
   "execution_count": 20,
   "metadata": {
    "vscode": {
     "languageId": "java"
    }
   },
   "outputs": [
    {
     "name": "stdout",
     "output_type": "stream",
     "text": [
      "0\n",
      "1\n",
      "2\n",
      "3\n",
      "4\n",
      "5\n"
     ]
    }
   ],
   "source": [
    "for (int i = 0; i <= 5; i++) {\n",
    "    System.out.println(i);\n",
    "}"
   ]
  },
  {
   "cell_type": "markdown",
   "metadata": {},
   "source": [
    "- Enhanced for loop: for (int i : arr) {} use this when you need to perform a method on each item in an arrayList"
   ]
  },
  {
   "cell_type": "code",
   "execution_count": 46,
   "metadata": {
    "vscode": {
     "languageId": "java"
    }
   },
   "outputs": [
    {
     "name": "stdout",
     "output_type": "stream",
     "text": [
      "6\n"
     ]
    }
   ],
   "source": [
    "import java.util.ArrayList;\n",
    "import java.util.Arrays;\n",
    "\n",
    "public class test {\n",
    "\n",
    "    public static void main(String[] args) {\n",
    "        \n",
    "        List<Integer> list = new ArrayList<Integer>();\n",
    "        list.add(1);\n",
    "        list.add(2);\n",
    "        list.add(3);\n",
    "\n",
    "        int count = 0;\n",
    "\n",
    "        for (int i : list) {\n",
    "            count += i;\n",
    "        }\n",
    "\n",
    "        System.out.println(count);\n",
    "    }\n",
    "}\n",
    "\n",
    "test.main(null);"
   ]
  },
  {
   "cell_type": "markdown",
   "metadata": {},
   "source": [
    "- While loop vs Do while loop: while loop runs while a conditions true, while do while loop runs once and then checks the condition"
   ]
  },
  {
   "cell_type": "code",
   "execution_count": 58,
   "metadata": {
    "vscode": {
     "languageId": "java"
    }
   },
   "outputs": [
    {
     "name": "stdout",
     "output_type": "stream",
     "text": [
      "13\n",
      "40\n",
      "20\n",
      "10\n",
      "5\n",
      "16\n",
      "8\n",
      "4\n",
      "2\n"
     ]
    }
   ],
   "source": [
    "public class test {\n",
    "\n",
    "    public static void main(String[] args) {\n",
    "\n",
    "        int x = 13;\n",
    "        \n",
    "        do {\n",
    "            System.out.println(x);\n",
    "            if (x%2==0) {\n",
    "            x /= 2;\n",
    "            } else {\n",
    "            x = 3*x+1;\n",
    "            }\n",
    "        } while (x!=1);\n",
    "    }\n",
    "}\n",
    "\n",
    "test.main(null);"
   ]
  },
  {
   "cell_type": "markdown",
   "metadata": {},
   "source": [
    "- Nested loop: used when you want to search a multidimensional arraylist (2d 3d Array etc)"
   ]
  },
  {
   "cell_type": "code",
   "execution_count": 60,
   "metadata": {
    "vscode": {
     "languageId": "java"
    }
   },
   "outputs": [
    {
     "name": "stdout",
     "output_type": "stream",
     "text": [
      "8\n"
     ]
    }
   ],
   "source": [
    "public class test {\n",
    "\n",
    "    public static void main(String[] args) {\n",
    "        String[][] array = {\n",
    "            {\"brook\", \"bknight\", \"bbishop\", \"bqueen\", \"bking\", \"bbishop\", \"bknight\", \"brook\"},\n",
    "            {\"bpawn\", \"bpawn\", \"bpawn\", \"bpawn\", \"bpawn\", \"bpawn\", \"bpawn\", \"bpawn\"},\n",
    "            {\"\", \"\", \"\", \"\", \"\", \"\", \"\", \"\"},\n",
    "            {\"\", \"\", \"\", \"\", \"\", \"\", \"\", \"\"},\n",
    "            {\"\", \"\", \"\", \"\", \"\", \"\", \"\", \"\"},\n",
    "            {\"\", \"\", \"\", \"\", \"\", \"\", \"\", \"\"},\n",
    "            {\"\", \"\", \"\", \"\", \"\", \"\", \"\", \"\"},\n",
    "            {\"\", \"\", \"\", \"\", \"\", \"\", \"\", \"\"},\n",
    "            {\"wpawn\", \"wpawn\", \"wpawn\", \"wpawn\", \"wpawn\", \"wpawn\", \"wpawn\", \"wpawn\"},\n",
    "            {\"wrook\", \"wknight\", \"wbishop\", \"wqueen\", \"wking\", \"wbishop\", \"wknight\", \"wrook\"}\n",
    "            };\n",
    "        \n",
    "        int count = 0;\n",
    "\n",
    "        for (String[] row : array) {\n",
    "            for (String piece : row) {\n",
    "                if (piece.equals(\"bpawn\")) {\n",
    "                    count++;\n",
    "                }\n",
    "            }\n",
    "        }\n",
    "\n",
    "        System.out.println(count);\n",
    "    }\n",
    "}\n",
    "\n",
    "test.main(null);"
   ]
  },
  {
   "cell_type": "markdown",
   "metadata": {},
   "source": [
    "- Creating a class: public class Class {} should have a constructor and can have a 1 arguement constructor or multiple arguement constructor. Name of class should be caps and the name of the file.\n",
    "- Constructor: allocates parameters to the methods private variables. Can be a no arguement constructor, multi arguement constructor, or all arg constructor\n",
    "- Accesor method: example is a getter. returns a variable type. Just returns this.var() so you can access a private variable for a specific object\n",
    "- Mutator method: Updates a variable inside of the object. Doesnt have to return something in which it would be void.\n",
    "- Overloading a method: it lets you pass different combinations of parameters"
   ]
  },
  {
   "cell_type": "code",
   "execution_count": 64,
   "metadata": {
    "vscode": {
     "languageId": "java"
    }
   },
   "outputs": [
    {
     "name": "stdout",
     "output_type": "stream",
     "text": [
      "piece default\n",
      "piece 2\n",
      "updated type\n"
     ]
    }
   ],
   "source": [
    "public class Piece {    // this is a class\n",
    "\n",
    "    private String type;\n",
    "\n",
    "    // Overloading a method except this method is a constructor but does the same thing\n",
    "    public Piece() {    // this is a no arg constructor\n",
    "        this.type = \"piece default\";\n",
    "    }\n",
    "\n",
    "    public Piece(String type) { // this is a arg constructor\n",
    "        this.type = type;\n",
    "    }\n",
    "\n",
    "    public String getType() {   // this is a accesor method\n",
    "        return this.type;\n",
    "    }  \n",
    "\n",
    "    public void getTypeToString() {\n",
    "        System.out.println(this.getType());\n",
    "    }\n",
    "\n",
    "    public void setType(String type) {  // this is a mutator method\n",
    "        this.type = type;\n",
    "    }\n",
    "\n",
    "    public static void main(String[] args) {\n",
    "        \n",
    "        Piece thing1 = new Piece();\n",
    "        Piece thing2 = new Piece(\"piece 2\");\n",
    "\n",
    "        thing1.getTypeToString();\n",
    "        thing2.getTypeToString();\n",
    "\n",
    "        thing1.setType(\"updated type\");\n",
    "        thing1.getTypeToString();\n",
    "    }\n",
    "}\n",
    "\n",
    "Piece.main(null);"
   ]
  },
  {
   "cell_type": "code",
   "execution_count": null,
   "metadata": {
    "vscode": {
     "languageId": "java"
    }
   },
   "outputs": [],
   "source": [
    "public class test {\n",
    "\n",
    "    public static void main(String[] args) {\n",
    "    \n",
    "    }\n",
    "}\n",
    "\n",
    "test.main(null);"
   ]
  },
  {
   "cell_type": "markdown",
   "metadata": {},
   "source": [
    "- Static variable is a variable that does not update (you can use final). Class variable is a variable somethig that can be accessed from in and out of the class. private is for something that can only be used by the object. Protectdd is like public but it cant be accessed outside of the package\n",
    "- Static is for methods that belong to the whole class instead of just one object.\n",
    "- this: this is used to call specific variables of an object (this.variable)\n",
    "- main method: This is typically used as a tester method to test all of the variables and functions work in a POJO. It lets you test your code even if it depends on other files to work"
   ]
  },
  {
   "cell_type": "code",
   "execution_count": null,
   "metadata": {
    "vscode": {
     "languageId": "java"
    }
   },
   "outputs": [],
   "source": [
    "import java.util.HashMap;\n",
    "import java.util.ArrayList;\n",
    "import java.util.Arrays;\n",
    "import java.util.Scanner;\n",
    "\n",
    "public class Budget {\n",
    "\n",
    "    // static variable\n",
    "    static ArrayList<String> months = new ArrayList<>(Arrays.asList(\n",
    "        \"january\",\n",
    "        \"february\",\n",
    "        \"march\",\n",
    "        \"april\",\n",
    "        \"may\",\n",
    "        \"june\",\n",
    "        \"july\",\n",
    "        \"august\",\n",
    "        \"september\",\n",
    "        \"october\",\n",
    "        \"november\",\n",
    "        \"december\"\n",
    "    ));\n",
    "\n",
    "    private HashMap<String, Integer> monthlyExpenses;\n",
    "    private HashMap<String, Integer> monthlyBudget;\n",
    "\n",
    "    public Budget() {\n",
    "        this.monthlyExpenses = new HashMap<>();\n",
    "        this.monthlyBudget = new HashMap<>();\n",
    "    }\n",
    "\n",
    "    public void setMonthlyExpenses() {\n",
    "\n",
    "        Scanner scanner = new Scanner(System.in);\n",
    "\n",
    "        for (String month : months) {\n",
    "        \n",
    "            System.out.println(\"Enter the monthly expenses for \" + month + \": \");\n",
    "            String input = scanner.nextLine();\n",
    "            this.monthlyExpenses.put(month, Integer.parseInt(input));\n",
    "\n",
    "        }\n",
    "\n",
    "        \n",
    "    }\n",
    "    \n",
    "    public void setMonthlyBudget() {\n",
    "     \n",
    "        Scanner scanner = new Scanner(System.in);\n",
    "\n",
    "        for (String month : months) {\n",
    "        \n",
    "            System.out.println(\"Enter the monthly budget for \" + month + \": \");\n",
    "            String input = scanner.nextLine();\n",
    "            this.monthlyBudget.put(month, Integer.parseInt(input));\n",
    "\n",
    "        }\n",
    "\n",
    "    }\n",
    "\n",
    "    public int findDifference() {\n",
    "        int sum = 0;\n",
    "\n",
    "        for (String month : months) {\n",
    "            sum += monthlyBudget.get(month);\n",
    "            sum -= monthlyExpenses.get(month);\n",
    "        }\n",
    "\n",
    "        return sum;\n",
    "    }\n",
    "\n",
    "    public void findDifferenceToString() {  // this keyword\n",
    "        System.out.println(\"Your difference is \" + this.findDifference());\n",
    "    }\n",
    "\n",
    "    // static method and also a main method\n",
    "    public static void main(String[] args) {\n",
    "        Budget budget = new Budget();\n",
    "        budget.setMonthlyBudget();\n",
    "        budget.setMonthlyExpenses();\n",
    "        budget.findDifferenceToString();\n",
    "    }\n",
    "}\n",
    "\n",
    "Budget.main(null);"
   ]
  },
  {
   "cell_type": "markdown",
   "metadata": {},
   "source": [
    "- Inheritance: allows you to extend one java file and its methods and variables into another and save code (ie flower extends plant because a flower has all the attributes of a plant)\n",
    "- subclass construcor: instead of instantiating as this.var = var set it as super(var)\n",
    "- overriding a method: overrides an inherited method so that it does something else\n",
    "- Polymorphism: allows you to implement the smae method in different ways by overloading, overriding, or latebinding\n",
    "- Abstract class & method: a class that cant create objects but can only be extended. The method can also not be used but only extended"
   ]
  },
  {
   "cell_type": "code",
   "execution_count": 93,
   "metadata": {
    "vscode": {
     "languageId": "java"
    }
   },
   "outputs": [],
   "source": [
    "// abstract class\n",
    "abstract class Animal {\n",
    "    private int height;\n",
    "    private String name;\n",
    "\n",
    "    public Animal(String name, int height) {\n",
    "        this.name = name;\n",
    "        this.height = height;\n",
    "    }\n",
    "\n",
    "    public void bite() {\n",
    "        System.out.println(\"nom!\");\n",
    "    }\n",
    "\n",
    "    public String getName() {\n",
    "        return this.name;\n",
    "    }\n",
    "}"
   ]
  },
  {
   "cell_type": "code",
   "execution_count": 96,
   "metadata": {
    "vscode": {
     "languageId": "java"
    }
   },
   "outputs": [
    {
     "ename": "CompilationException",
     "evalue": "",
     "output_type": "error",
     "traceback": [
      "\u001b[1m\u001b[30m|   \u001b[1m\u001b[30m// Inheritance\u001b[0m",
      "\u001b[1m\u001b[30m|   \u001b[1m\u001b[30mpublic class Dog extends Animal {\u001b[0m",
      "\u001b[1m\u001b[30m|   \u001b[1m\u001b[30m\u001b[0m",
      "\u001b[1m\u001b[30m|   \u001b[1m\u001b[30m    private int speed;\u001b[0m",
      "\u001b[1m\u001b[30m|   \u001b[1m\u001b[30m\u001b[0m",
      "\u001b[1m\u001b[30m|   \u001b[1m\u001b[30m    public Dog(String name, int height, int speed) {\u001b[0m",
      "\u001b[1m\u001b[30m|   \u001b[1m\u001b[30m        \u001b[0m",
      "\u001b[1m\u001b[30m|   \u001b[1m\u001b[30m        // Subclass constructor\u001b[0m",
      "\u001b[1m\u001b[30m|   \u001b[1m\u001b[30m        super(name, height);\u001b[0m",
      "\u001b[1m\u001b[30m|   \u001b[1m\u001b[30m        this.speed = speed;\u001b[0m",
      "\u001b[1m\u001b[30m|   \u001b[1m\u001b[30m    }\u001b[0m",
      "\u001b[1m\u001b[30m|   \u001b[1m\u001b[30m\u001b[0m",
      "\u001b[1m\u001b[30m|   \u001b[1m\u001b[30m    public void bark() {\u001b[0m",
      "\u001b[1m\u001b[30m|   \u001b[1m\u001b[30m        System.out.println(\"woof!\");\u001b[0m",
      "\u001b[1m\u001b[30m|   \u001b[1m\u001b[30m    }\u001b[0m",
      "\u001b[1m\u001b[30m|   \u001b[1m\u001b[30m\u001b[0m",
      "\u001b[1m\u001b[30m|   \u001b[1m\u001b[30m    // Overriding a method\u001b[0m",
      "\u001b[1m\u001b[30m|   \u001b[1m\u001b[30m    @Override\u001b[0m",
      "\u001b[1m\u001b[30m|   \u001b[1m\u001b[30m    public void bite() {\u001b[0m",
      "\u001b[1m\u001b[30m|   \u001b[1m\u001b[30m        System.out.println(\"chomp!\");\u001b[0m",
      "\u001b[1m\u001b[30m|   \u001b[1m\u001b[30m    }\u001b[0m",
      "\u001b[1m\u001b[30m|   \u001b[1m\u001b[30m\u001b[0m",
      "\u001b[1m\u001b[30m|   \u001b[1m\u001b[30m    public static void main(String[] args) {\u001b[0m",
      "\u001b[1m\u001b[30m|   \u001b[1m\u001b[30m        Animal dog = new Dog(\"todd\", 4, 12);\u001b[0m",
      "\u001b[1m\u001b[30m|   \u001b[1m\u001b[30m        dog.bite();\u001b[0m",
      "\u001b[1m\u001b[30m|   \u001b[1m\u001b[30m        System.out.println(dog.getName());\u001b[0m",
      "\u001b[1m\u001b[30m|   \u001b[1m\u001b[30m        dog.bark();\u001b[0m",
      "\u001b[1m\u001b[30m|   \u001b[1m\u001b[30m    }\u001b[0m",
      "\u001b[1m\u001b[30m|   \u001b[1m\u001b[30m}\u001b[0m",
      "\u001b[1m\u001b[31mUnresolved dependencies:\u001b[0m",
      "\u001b[1m\u001b[31m   - method bark()\u001b[0m"
     ]
    }
   ],
   "source": [
    "// Inheritance\n",
    "public class Dog extends Animal {\n",
    "\n",
    "    private int speed;\n",
    "\n",
    "    public Dog(String name, int height, int speed) {\n",
    "        \n",
    "        // Subclass constructor\n",
    "        super(name, height);\n",
    "        this.speed = speed;\n",
    "    }\n",
    "\n",
    "    public void bark() {\n",
    "        System.out.println(\"woof!\");\n",
    "    }\n",
    "\n",
    "    // Overriding a method\n",
    "    @Override\n",
    "    public void bite() {\n",
    "        System.out.println(\"chomp!\");\n",
    "    }\n",
    "\n",
    "    public static void main(String[] args) {\n",
    "        Animal dog = new Dog(\"todd\", 4, 12);\n",
    "        dog.bite();\n",
    "        System.out.println(dog.getName());\n",
    "        dog.bark();\n",
    "    }\n",
    "}\n",
    "\n",
    "Dog.main(null);"
   ]
  },
  {
   "cell_type": "markdown",
   "metadata": {},
   "source": [
    "- Standard method: toString() parses something into a string, equals() compares the values of two things, and hashCode() hashes something and encrypts it"
   ]
  },
  {
   "cell_type": "code",
   "execution_count": 89,
   "metadata": {
    "vscode": {
     "languageId": "java"
    }
   },
   "outputs": [
    {
     "name": "stdout",
     "output_type": "stream",
     "text": [
      "The password is incorrect\n",
      "The password is correct\n"
     ]
    }
   ],
   "source": [
    "public class User {\n",
    "\n",
    "    private int hashedPassword;\n",
    "    \n",
    "    public User() {\n",
    "        this.hashedPassword = \"Passwordles\".hashCode();\n",
    "    }\n",
    "\n",
    "    public User(String password) {\n",
    "        // hashed password never actually stores the real password\n",
    "        this.hashedPassword = password.hashCode();\n",
    "    }\n",
    "\n",
    "    public boolean passwordChecker(String guess) {\n",
    "\n",
    "        // compares if two values are equal\n",
    "        if (this.hashedPassword.Equals(guess.hashCode())) {\n",
    "            return true;\n",
    "        } else {\n",
    "            return false;\n",
    "        }\n",
    "    }\n",
    "\n",
    "    // to string converts the results of a method into a string so it can be seen\n",
    "    public void passwordCheckerToString(boolean isCorrect) {\n",
    "        if (isCorrect) {\n",
    "            System.out.println(\"The password is correct\");\n",
    "        } else {\n",
    "            System.out.println(\"The password is incorrect\");\n",
    "        }\n",
    "    }\n",
    "\n",
    "    public static void main(String[] args) {\n",
    "        User user1 = new User();\n",
    "        user1.passwordCheckerToString(user1.passwordChecker(\"password\"));\n",
    "        user1.passwordCheckerToString(user1.passwordChecker(\"Passwordles\"));\n",
    "    }\n",
    "\n",
    "}\n",
    "\n",
    "User.main(null);"
   ]
  },
  {
   "cell_type": "markdown",
   "metadata": {},
   "source": [
    "- Late binding of object: Used to instantiate an object when the type of that object is unknown"
   ]
  },
  {
   "cell_type": "code",
   "execution_count": null,
   "metadata": {
    "vscode": {
     "languageId": "java"
    }
   },
   "outputs": [],
   "source": [
    "public class Bird {\n",
    "\n",
    "}"
   ]
  },
  {
   "cell_type": "code",
   "execution_count": null,
   "metadata": {
    "vscode": {
     "languageId": "java"
    }
   },
   "outputs": [],
   "source": [
    "public class Chicken {\n",
    "    \n",
    "    public static void main(String[] args) {\n",
    "        \n",
    "        Bird object;\n",
    "\n",
    "        // late binding\n",
    "        object = new Chicken();\n",
    "    }\n",
    "}"
   ]
  },
  {
   "cell_type": "markdown",
   "metadata": {},
   "source": [
    "- Big O notation: Allows you to estimate how effective a segment of code is\n",
    "    - Hashmap: O(1)\n",
    "    - Binary search: O(log N)\n",
    "    - Single loop: O(n)\n",
    "    - Nested loop: O(n^2)"
   ]
  }
 ],
 "metadata": {
  "kernelspec": {
   "display_name": "Java",
   "language": "java",
   "name": "java"
  },
  "language_info": {
   "codemirror_mode": "java",
   "file_extension": ".jshell",
   "mimetype": "text/x-java-source",
   "name": "Java",
   "pygments_lexer": "java",
   "version": "11.0.16+8-post-Ubuntu-0ubuntu120.04"
  },
  "orig_nbformat": 4,
  "vscode": {
   "interpreter": {
    "hash": "916dbcbb3f70747c44a77c7bcd40155683ae19c65e1c03b4aa3499c5328201f1"
   }
  }
 },
 "nbformat": 4,
 "nbformat_minor": 2
}
