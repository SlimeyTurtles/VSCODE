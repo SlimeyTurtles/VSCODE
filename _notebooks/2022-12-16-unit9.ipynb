{
 "cells": [
  {
   "cell_type": "markdown",
   "metadata": {},
   "source": [
    "# Unit 9 Inheritance\n",
    "> Avinh Huynh\n",
    "\n",
    "- layout: default\n",
    "- categories: [units]\n",
    "- permalink: /units/9"
   ]
  },
  {
   "cell_type": "markdown",
   "metadata": {},
   "source": [
    "# Notes\n",
    "\n",
    "- <mark>Superclass</mark>: A parent class in which it's attributes and methods are inherited\n",
    "- <mark>Super keyword</mark>: Adds the constructor of the parent to the child\n",
    "- <mark>Subclass</mark>: A class that inherits attributes and methods\n",
    "- <mark>Override</mark>: Allows a subclass to override and redefine a parent class\n",
    "- <mark>Polymorphism</mark>: Reusing a function. This can be through method overloading or through overriding a method\n",
    "- <mark>Runtime polymorphism</mark>: This is if the function is reused while the program is running. An example of this would be method overloading\n",
    "- <mark>Method overloading</mark>: Passing different numbers of parameters through a function to have it run differently each time. An example of this would be no arg / multi arg constructors for classes\n",
    "- <mark>Static Polymorphism</mark>: Polymorphism that only exists in one class\n",
    "- <mark>Early Binding</mark>: Defines a data type when it is instantiated\n",
    "- <mark>Late Binding</mark>: Defines a data type later after it is instantiates. This could be used if theres an object that you know will exist, but you dont know what child it would be. (Animal timmy = new Chicken();)"
   ]
  },
  {
   "cell_type": "markdown",
   "metadata": {},
   "source": [
    "# Hack 1 & Hack 2\n",
    "\n",
    "### have a super class w no and multi arg constructor, then extend it with another attribute\n",
    "\n",
    "### have an override funciton"
   ]
  },
  {
   "cell_type": "code",
   "execution_count": 1,
   "metadata": {
    "vscode": {
     "languageId": "java"
    }
   },
   "outputs": [],
   "source": [
    "abstract class Piece {\n",
    "\n",
    "    // Multiple attributes\n",
    "    String color;\n",
    "    int row, file;\n",
    "    ArrayList<ArrayList<Integer>> legalMoves = new ArrayList<ArrayList<Integer>>();\n",
    "\n",
    "    // Multi arg constructor\n",
    "    public Piece(String color, int row, int file) {\n",
    "        this.color = color;\n",
    "        this.row = row;\n",
    "        this.file = file;\n",
    "    }\n",
    "\n",
    "    // No arg constructor\n",
    "    public Piece() {\n",
    "        this.color = \"white\";\n",
    "        this.row = 0;\n",
    "        this.file = 0\n",
    "    }\n",
    "\n",
    "    // function to be overridden later\n",
    "    protected void takePiece(ArrayList<Integer> move) {\n",
    "        for (ArrayList<Integer> legalMove : legalMoves) {\n",
    "            if (legalMove.equal(move)) {\n",
    "                // take the piece implementation not shown\n",
    "            }\n",
    "        }\n",
    "    }\n",
    "}"
   ]
  },
  {
   "cell_type": "code",
   "execution_count": 16,
   "metadata": {
    "vscode": {
     "languageId": "java"
    }
   },
   "outputs": [],
   "source": [
    "public class Pawn extends Piece {\n",
    "\n",
    "    // New attribute\n",
    "    boolean cool;\n",
    "    \n",
    "    // New constructor\n",
    "    public Pawn(String color, int row, int file, boolean cool) {\n",
    "        super(color, row, file);\n",
    "        this.cool = cool;\n",
    "    }\n",
    "\n",
    "    private void addLegalSquares() {\n",
    "        if (this.color == \"white\") {\n",
    "            ArrayList<Integer> newLegalSquares = new ArrayList<Integer>();\n",
    "            newLegalSquares.add(row);\n",
    "            newLegalSquares.add(file+1);\n",
    "            legalSquares.add(newLegalSquares);\n",
    "        } else if (this.color == \"black\") {\n",
    "            ArrayList<Integer> newLegalSquares = new ArrayList<Integer>();\n",
    "            newLegalSquares.add(row);\n",
    "            newLegalSquares.add(file-1);\n",
    "            legalSquares.add(newLegalSquares);\n",
    "        }\n",
    "    }\n",
    "\n",
    "    // Hack 2 with an overriden function\n",
    "    @Override\n",
    "    public void takePiece(ArrayList<Integer> move) {\n",
    "        for (ArrayList<Integer> legalMove : legalMoves) {\n",
    "            if (legalMove.equal(move)) {\n",
    "                // take the piece implementation not shown\n",
    "            }\n",
    "        }\n",
    "\n",
    "        // implement something for enpassant\n",
    "    }\n",
    "}"
   ]
  },
  {
   "cell_type": "markdown",
   "metadata": {},
   "source": [
    "# Hack 3\n",
    "\n",
    "### Implement method overloading"
   ]
  },
  {
   "cell_type": "code",
   "execution_count": 22,
   "metadata": {
    "vscode": {
     "languageId": "java"
    }
   },
   "outputs": [
    {
     "name": "stdout",
     "output_type": "stream",
     "text": [
      "1\n",
      "3\n",
      "6\n",
      "10\n"
     ]
    }
   ],
   "source": [
    "public class Math {\n",
    "    public static int sum(int a) {\n",
    "        return a;\n",
    "    }\n",
    "\n",
    "    public static int sum(int a, int b) {\n",
    "        return a + b;\n",
    "    }\n",
    "\n",
    "    public static int sum(int a, int b, int c) {\n",
    "        return a + b + c;\n",
    "    }\n",
    "\n",
    "    public static int sum(int a, int b, int c, int d) {\n",
    "        return a + b + c + d;\n",
    "    }\n",
    "\n",
    "    public static void main(String[] args) {\n",
    "        System.out.println(sum(1));\n",
    "        System.out.println(sum(1,2));\n",
    "        System.out.println(sum(1,2,3));\n",
    "        System.out.println(sum(1,2,3,4));\n",
    "    }\n",
    "}\n",
    "\n",
    "Math.main(null);"
   ]
  }
 ],
 "metadata": {
  "kernelspec": {
   "display_name": "Java",
   "language": "java",
   "name": "java"
  },
  "language_info": {
   "codemirror_mode": "java",
   "file_extension": ".jshell",
   "mimetype": "text/x-java-source",
   "name": "Java",
   "pygments_lexer": "java",
   "version": "17.0.5+8-Ubuntu-2ubuntu122.04"
  },
  "orig_nbformat": 4,
  "vscode": {
   "interpreter": {
    "hash": "916dbcbb3f70747c44a77c7bcd40155683ae19c65e1c03b4aa3499c5328201f1"
   }
  }
 },
 "nbformat": 4,
 "nbformat_minor": 2
}
